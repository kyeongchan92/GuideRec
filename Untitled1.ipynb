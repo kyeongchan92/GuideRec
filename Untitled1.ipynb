{
 "cells": [
  {
   "cell_type": "code",
   "execution_count": 1,
   "metadata": {},
   "outputs": [],
   "source": [
    "import os"
   ]
  },
  {
   "cell_type": "code",
   "execution_count": 2,
   "metadata": {},
   "outputs": [
    {
     "data": {
      "text/plain": [
       "'C:\\\\Users\\\\박순혁\\\\Desktop\\\\바탕화면\\\\bigcontest2024'"
      ]
     },
     "execution_count": 2,
     "metadata": {},
     "output_type": "execute_result"
    }
   ],
   "source": [
    "os.getcwd()"
   ]
  },
  {
   "cell_type": "code",
   "execution_count": 3,
   "metadata": {},
   "outputs": [
    {
     "name": "stderr",
     "output_type": "stream",
     "text": [
      "C:\\anaconda3\\envs\\latest\\Lib\\site-packages\\tqdm\\auto.py:21: TqdmWarning: IProgress not found. Please update jupyter and ipywidgets. See https://ipywidgets.readthedocs.io/en/stable/user_install.html\n",
      "  from .autonotebook import tqdm as notebook_tqdm\n"
     ]
    }
   ],
   "source": [
    "# from llm_response.langgraph_graph_state import GraphState\n",
    "# from prompt.routing_and_intent_analysis import ROUTE_INTT_PROMPT_TEMPLATE\n",
    "# import streamlit as st"
   ]
  },
  {
   "cell_type": "code",
   "execution_count": 4,
   "metadata": {},
   "outputs": [],
   "source": [
    "state = {\n",
    "    'query' : '60대 부모님이랑 갈만한 애월읍 흑돼지 맛집 추천해줘'\n",
    "}\n",
    "\n",
    "from llm_response.get_llm_model import get_llm_model\n",
    "\n",
    "llm = get_llm_model()\n",
    "\n",
    "# route_response = llm.invoke(ROUTE_INTT_PROMPT_TEMPLATE.format(query=state[\"query\"]))\n",
    "\n",
    "# route_response\n",
    "\n",
    "#     route_response_json = eval(\n",
    "#         route_response.content.replace(\"```\", \"\").replace(\"json\", \"\")\n",
    "#     )\n",
    "\n",
    "#     route_response_json\n",
    "\n",
    "# route_response_json['similar_query']"
   ]
  },
  {
   "cell_type": "code",
   "execution_count": 5,
   "metadata": {},
   "outputs": [],
   "source": [
    "from llm_response.langgraph_app import app, GraphState"
   ]
  },
  {
   "cell_type": "code",
   "execution_count": 6,
   "metadata": {},
   "outputs": [],
   "source": [
    "from langchain_core.runnables import RunnableConfig"
   ]
  },
  {
   "cell_type": "code",
   "execution_count": 7,
   "metadata": {},
   "outputs": [],
   "source": [
    "config = RunnableConfig(recursion_limit=10, configurable={\"thread_id\": \"movie\"})"
   ]
  },
  {
   "cell_type": "code",
   "execution_count": 8,
   "metadata": {
    "scrolled": true
   },
   "outputs": [
    {
     "name": "stderr",
     "output_type": "stream",
     "text": [
      "2024-11-15 17:04:16.231 WARNING streamlit.runtime.scriptrunner_utils.script_run_context: Thread 'MainThread': missing ScriptRunContext! This warning can be ignored when running in bare mode.\n"
     ]
    },
    {
     "name": "stdout",
     "output_type": "stream",
     "text": [
      "Routing and intent analysis=========================================================================\n",
      "query : 60대 부모님이랑 갈만한 애월읍 흑돼지 맛집 추천해줘\n"
     ]
    },
    {
     "name": "stderr",
     "output_type": "stream",
     "text": [
      "2024-11-15 17:04:18.587 \n",
      "  \u001b[33m\u001b[1mWarning:\u001b[0m to view this Streamlit app on a browser, run it with the following\n",
      "  command:\n",
      "\n",
      "    streamlit run C:\\anaconda3\\envs\\latest\\Lib\\site-packages\\ipykernel_launcher.py [ARGUMENTS]\n",
      "2024-11-15 17:04:18.588 Thread 'MainThread': missing ScriptRunContext! This warning can be ignored when running in bare mode.\n",
      "2024-11-15 17:04:18.589 Thread 'MainThread': missing ScriptRunContext! This warning can be ignored when running in bare mode.\n",
      "2024-11-15 17:04:18.591 Thread 'MainThread': missing ScriptRunContext! This warning can be ignored when running in bare mode.\n",
      "2024-11-15 17:04:20.414 Thread 'MainThread': missing ScriptRunContext! This warning can be ignored when running in bare mode.\n",
      "2024-11-15 17:04:20.415 Thread 'MainThread': missing ScriptRunContext! This warning can be ignored when running in bare mode.\n",
      "2024-11-15 17:04:20.422 Thread 'MainThread': missing ScriptRunContext! This warning can be ignored when running in bare mode.\n",
      "2024-11-15 17:04:20.424 Thread 'MainThread': missing ScriptRunContext! This warning can be ignored when running in bare mode.\n",
      "2024-11-15 17:04:20.429 Thread 'MainThread': missing ScriptRunContext! This warning can be ignored when running in bare mode.\n",
      "2024-11-15 17:04:20.431 Thread 'MainThread': missing ScriptRunContext! This warning can be ignored when running in bare mode.\n"
     ]
    },
    {
     "name": "stdout",
     "output_type": "stream",
     "text": [
      "\n",
      "```json\n",
      "{\n",
      "    \"query_type\": \"recomm\",\n",
      "    \"subtype\": \"purpose_and_visit_with\",\n",
      "    \"comment\": \"😊 이 질문은 추천형 질문으로 분류되었어요!\",\n",
      "    \"intent\": \"60대 부모님과 함께 편안하고 쾌적한 분위기에서 흑돼지를 즐길 수 있는, 깔끔하고 정갈한 맛집으로, 흑돼지의 맛은 물론 부모님의 입맛에도 잘 맞는 곳\",\n",
      "    \"similar_query\": [\n",
      "        \"60대 부모님과 함께 가기 좋은 애월읍 흑돼지 맛집 중, 깔끔하고 조용한 곳은 어디일까요?\",\n",
      "        \"60대 부모님이 좋아하실 만한 애월읍 흑돼지 맛집으로, 푸짐하고 맛있는 메뉴를 제공하는 곳은 어디일까요?\"\n",
      "    ]\n",
      "}\n",
      "```\n",
      "# input_tokens count : 2683\n",
      "state : {'query': '60대 부모님이랑 갈만한 애월읍 흑돼지 맛집 추천해줘', 'query_type': 'recomm', 'intent': '60대 부모님과 함께 편안하고 쾌적한 분위기에서 흑돼지를 즐길 수 있는, 깔끔하고 정갈한 맛집으로, 흑돼지의 맛은 물론 부모님의 입맛에도 잘 맞는 곳', 'similar_query': ['60대 부모님과 함께 가기 좋은 애월읍 흑돼지 맛집 중, 깔끔하고 조용한 곳은 어디일까요?', '60대 부모님이 좋아하실 만한 애월읍 흑돼지 맛집으로, 푸짐하고 맛있는 메뉴를 제공하는 곳은 어디일까요?'], 'subtype': 'purpose_and_visit_with'}\n",
      "Route_query edge------------------------------------------------------------------------------------\n",
      "recomm\n",
      "Get Store Candidates================================================================================\n",
      "state : {'query': '60대 부모님이랑 갈만한 애월읍 흑돼지 맛집 추천해줘', 'query_type': 'recomm', 'subtype': 'purpose_and_visit_with', 'intent': '60대 부모님과 함께 편안하고 쾌적한 분위기에서 흑돼지를 즐길 수 있는, 깔끔하고 정갈한 맛집으로, 흑돼지의 맛은 물론 부모님의 입맛에도 잘 맞는 곳', 'similar_query': ['60대 부모님과 함께 가기 좋은 애월읍 흑돼지 맛집 중, 깔끔하고 조용한 곳은 어디일까요?', '60대 부모님이 좋아하실 만한 애월읍 흑돼지 맛집으로, 푸짐하고 맛있는 메뉴를 제공하는 곳은 어디일까요?']}\n",
      "Text2Cypher for RECOMM------------------------------------------------------------------------------\n",
      "# cypher : \n",
      "MATCH (rg:Region {name: \"애월읍\"})-[:HAS_STORE]->(s:STORE)\n",
      "WHERE s.MCT_NM CONTAINS \"흑돼지\"\n",
      "MATCH (s)-[:HAS_VISIT_KEYWORD]->(v:Visit_with)\n",
      "WHERE v.keyword CONTAINS \"부모님\"\n",
      "RETURN s.pk AS pk, s.MCT_NM AS RestaurantName, s.ADDR AS Address, s.menu AS Menu, v.keyword AS VisitWith\n",
      "LIMIT 500\n",
      "\n",
      "# input_tokens count : 3526\n",
      "----------------------------------------------------------------------------------------------------\n"
     ]
    },
    {
     "name": "stderr",
     "output_type": "stream",
     "text": [
      "2024-11-15 17:04:23.787 Thread 'MainThread': missing ScriptRunContext! This warning can be ignored when running in bare mode.\n",
      "2024-11-15 17:04:23.791 Thread 'MainThread': missing ScriptRunContext! This warning can be ignored when running in bare mode.\n",
      "2024-11-15 17:04:23.947 Thread 'MainThread': missing ScriptRunContext! This warning can be ignored when running in bare mode.\n",
      "2024-11-15 17:04:23.948 Thread 'MainThread': missing ScriptRunContext! This warning can be ignored when running in bare mode.\n"
     ]
    },
    {
     "name": "stdout",
     "output_type": "stream",
     "text": [
      "Retrieve top review similar stores------------------------------------------------------------------\n",
      "Query Execution Time for stores 3: 0.0620 seconds\n",
      "results : \n",
      "      7146 : 0.698\n",
      "      2201 : 0.684\n",
      "      9461 : 0.673\n",
      "----------------------------------------------------------------------------------------------------\n"
     ]
    },
    {
     "name": "stderr",
     "output_type": "stream",
     "text": [
      "2024-11-15 17:04:24.077 Thread 'MainThread': missing ScriptRunContext! This warning can be ignored when running in bare mode.\n",
      "2024-11-15 17:04:24.079 Thread 'MainThread': missing ScriptRunContext! This warning can be ignored when running in bare mode.\n"
     ]
    },
    {
     "name": "stdout",
     "output_type": "stream",
     "text": [
      "lack_num :  3\n",
      "Query Execution Time: 0.0490 secondsQuery Execution Time: 0.0590 seconds\n",
      "\n",
      "Query Execution Time: 0.0640 seconds\n",
      "Query Execution Time: 0.0680 seconds\n",
      "Query Execution Time: 0.0800 seconds\n",
      "Query Execution Time: 0.0710 seconds\n",
      "grp_store :  {'metadata': {'viwit_with': '부모님', 'use_how': '{\"예약 후 이용\":2}', 'storeName': '용림식당', 'store_Addr': '제주 서귀포시 안덕면 사계리 2032-24번지', 'store_Image': {'kakao': '', 'google': 'https://lh5.googleusercontent.com/p/AF1QipPyEFqMe4oqzTRGh0JfrA0zCnM-CvsiarnBW02L=w426-h240-k-no', 'naver': 'https://search.pstatic.net/common/?autoRotate=true&type=w560_sharpen&src=https%3A%2F%2Fldb-phinf.pstatic.net%2F20220523_30%2F1653287989793b3zNV_JPEG%2F20220523_153655.jpg'}, 'reviewCount': {'kakao': 19, 'google': 223, 'naver': 53}, 'store_Rating': {'kakao': 4.5, 'google': '4.4', 'naver': 4.57}, 'menu': '갓돔회코스:250000, 묵은지고등어조림:20000, 다금바리회코스:270000, 잡어:120000, 광어:120000, 황돔(참돔):140000, 흑돔(벵에돔):160000, 구문쟁이:180000, 지리:15000, 전복죽:20000', 'wait_time': '{\"바로 입장\":2}', 'purpose': '가족모임', 'store_Type': '가정식', 'pk': 5795}}\n"
     ]
    },
    {
     "name": "stderr",
     "output_type": "stream",
     "text": [
      "2024-11-15 17:04:26.924 Thread 'MainThread': missing ScriptRunContext! This warning can be ignored when running in bare mode.\n",
      "2024-11-15 17:04:26.926 Thread 'MainThread': missing ScriptRunContext! This warning can be ignored when running in bare mode.\n"
     ]
    },
    {
     "name": "stdout",
     "output_type": "stream",
     "text": [
      "Current number of candidates: 6, Token count: 5312\n"
     ]
    },
    {
     "name": "stderr",
     "output_type": "stream",
     "text": [
      "2024-11-15 17:04:27.678 Thread 'MainThread': missing ScriptRunContext! This warning can be ignored when running in bare mode.\n",
      "2024-11-15 17:04:27.684 Thread 'MainThread': missing ScriptRunContext! This warning can be ignored when running in bare mode.\n",
      "2024-11-15 17:04:27.695 Thread 'MainThread': missing ScriptRunContext! This warning can be ignored when running in bare mode.\n",
      "2024-11-15 17:04:27.700 Thread 'MainThread': missing ScriptRunContext! This warning can be ignored when running in bare mode.\n",
      "2024-11-15 17:04:27.703 Thread 'MainThread': missing ScriptRunContext! This warning can be ignored when running in bare mode.\n",
      "2024-11-15 17:04:27.709 Thread 'MainThread': missing ScriptRunContext! This warning can be ignored when running in bare mode.\n"
     ]
    },
    {
     "name": "stdout",
     "output_type": "stream",
     "text": [
      "Current number of candidates: 5, Token count: 4939\n",
      "Selecting for recomm================================================================================\n"
     ]
    },
    {
     "name": "stderr",
     "output_type": "stream",
     "text": [
      "2024-11-15 17:04:35.321 Thread 'MainThread': missing ScriptRunContext! This warning can be ignored when running in bare mode.\n",
      "2024-11-15 17:04:35.323 Thread 'MainThread': missing ScriptRunContext! This warning can be ignored when running in bare mode.\n",
      "2024-11-15 17:04:35.324 Thread 'MainThread': missing ScriptRunContext! This warning can be ignored when running in bare mode.\n",
      "2024-11-15 17:04:35.328 Thread 'MainThread': missing ScriptRunContext! This warning can be ignored when running in bare mode.\n",
      "2024-11-15 17:04:35.330 Thread 'MainThread': missing ScriptRunContext! This warning can be ignored when running in bare mode.\n",
      "2024-11-15 17:04:35.332 Thread 'MainThread': missing ScriptRunContext! This warning can be ignored when running in bare mode.\n",
      "2024-11-15 17:04:35.337 Thread 'MainThread': missing ScriptRunContext! This warning can be ignored when running in bare mode.\n",
      "2024-11-15 17:04:35.339 Thread 'MainThread': missing ScriptRunContext! This warning can be ignored when running in bare mode.\n",
      "2024-11-15 17:04:35.344 Thread 'MainThread': missing ScriptRunContext! This warning can be ignored when running in bare mode.\n",
      "2024-11-15 17:04:35.349 Thread 'MainThread': missing ScriptRunContext! This warning can be ignored when running in bare mode.\n",
      "2024-11-15 17:04:35.352 Thread 'MainThread': missing ScriptRunContext! This warning can be ignored when running in bare mode.\n",
      "2024-11-15 17:04:35.356 Thread 'MainThread': missing ScriptRunContext! This warning can be ignored when running in bare mode.\n",
      "2024-11-15 17:04:35.359 Thread 'MainThread': missing ScriptRunContext! This warning can be ignored when running in bare mode.\n",
      "2024-11-15 17:04:35.361 Thread 'MainThread': missing ScriptRunContext! This warning can be ignored when running in bare mode.\n",
      "2024-11-15 17:04:35.363 Thread 'MainThread': missing ScriptRunContext! This warning can be ignored when running in bare mode.\n",
      "2024-11-15 17:04:35.365 Thread 'MainThread': missing ScriptRunContext! This warning can be ignored when running in bare mode.\n",
      "2024-11-15 17:04:35.368 Thread 'MainThread': missing ScriptRunContext! This warning can be ignored when running in bare mode.\n",
      "2024-11-15 17:04:35.371 Thread 'MainThread': missing ScriptRunContext! This warning can be ignored when running in bare mode.\n",
      "2024-11-15 17:04:35.375 Thread 'MainThread': missing ScriptRunContext! This warning can be ignored when running in bare mode.\n",
      "2024-11-15 17:04:35.378 Thread 'MainThread': missing ScriptRunContext! This warning can be ignored when running in bare mode.\n",
      "2024-11-15 17:04:35.382 Thread 'MainThread': missing ScriptRunContext! This warning can be ignored when running in bare mode.\n",
      "2024-11-15 17:04:35.385 Thread 'MainThread': missing ScriptRunContext! This warning can be ignored when running in bare mode.\n",
      "2024-11-15 17:04:35.391 Thread 'MainThread': missing ScriptRunContext! This warning can be ignored when running in bare mode.\n",
      "2024-11-15 17:04:35.406 Thread 'MainThread': missing ScriptRunContext! This warning can be ignored when running in bare mode.\n",
      "2024-11-15 17:04:35.409 Thread 'MainThread': missing ScriptRunContext! This warning can be ignored when running in bare mode.\n",
      "2024-11-15 17:04:35.415 Thread 'MainThread': missing ScriptRunContext! This warning can be ignored when running in bare mode.\n",
      "2024-11-15 17:04:35.419 Thread 'MainThread': missing ScriptRunContext! This warning can be ignored when running in bare mode.\n",
      "2024-11-15 17:04:35.425 Thread 'MainThread': missing ScriptRunContext! This warning can be ignored when running in bare mode.\n",
      "2024-11-15 17:04:35.428 Thread 'MainThread': missing ScriptRunContext! This warning can be ignored when running in bare mode.\n",
      "2024-11-15 17:04:35.431 Thread 'MainThread': missing ScriptRunContext! This warning can be ignored when running in bare mode.\n",
      "2024-11-15 17:04:35.435 Thread 'MainThread': missing ScriptRunContext! This warning can be ignored when running in bare mode.\n",
      "2024-11-15 17:04:35.437 Thread 'MainThread': missing ScriptRunContext! This warning can be ignored when running in bare mode.\n",
      "2024-11-15 17:04:35.439 Thread 'MainThread': missing ScriptRunContext! This warning can be ignored when running in bare mode.\n",
      "2024-11-15 17:04:35.443 Thread 'MainThread': missing ScriptRunContext! This warning can be ignored when running in bare mode.\n",
      "2024-11-15 17:04:35.447 Thread 'MainThread': missing ScriptRunContext! This warning can be ignored when running in bare mode.\n"
     ]
    },
    {
     "name": "stdout",
     "output_type": "stream",
     "text": [
      "Candidates str : \n",
      "pk : 7146\n",
      "리뷰 : \n",
      "1. 와우 고기가 두툼하니 넘 맛있네요 역시 흑돼지는 맛집에서 먹는게 답이네요 다른곳에서 흑돼지 먹어봤지만 여기랑 차원이 틀려요 냄새도 안나고 육즙이 가득가득 이네요 상차림도 깔끔하게\n",
      "2. 가족과 여행와서 맛있게 잘먹었은곳.\n",
      "아주 맛있어요.\n",
      "RestaurantName : 제주훈도애월흑돼지\n",
      "Address : 제주 제주시 애월읍 애월리 2482-1번지 1층\n",
      "Menu : 훈도 점심한상 2인:52000, 훈도 점심한상 3인:74000, 훈도 점심한상 4인:96000, 훈도 흑돼지[흑목살,흑삼겹] 600G:66000, 찐 훈도흑돼지 [흑가브리살] 20\n",
      "VisitWith : 부모님\n",
      "\n",
      "pk : 2201\n",
      "리뷰 : \n",
      "1. 뷰가 좋아서 찾아온 집인데 고기맛이 너무 좋아요! 사장님께서 구워 주시면서 흑돼지에 대해 설명도 해주시고, 껍질도 바짝 익혀 먹을 수 있게 잘라주셨어요, 남편이 육즙이 엄청 많다고\n",
      "2. 흑돼지 양도 많고 너무 맛있네요-!\n",
      "매장 바로 앞이 바다라 좋고 사장님, 종업원님들 모두 친절하셔서 여행와서 좋은 추억 남기고 갑니다.\n",
      "셀프바도 부담없이 이용할수 있어요.**^^\n",
      "RestaurantName : 로꼬돈흑돼지\n",
      "Address : 제주 제주시 애월읍 신엄리 989-2번지 1층\n",
      "Menu : 1879 제육볶음:14000, 소주/맥주/막걸리:5000, 음료수(콜라/사이다/환타):2000, 1879 제육볶음 혼밥 가능:14000, 초벌 버터듬뿍흑돈마호크 300g 기준:36\n",
      "VisitWith : 부모님\n",
      "\n",
      "pk : 9461\n",
      "리뷰 : \n",
      "1. 흑돼지먹으러오면 여기로와요 반찬부터\n",
      "고기까지 다 맛있습니다\n",
      "2. 정말 맛있게 먹었습니다\n",
      "RestaurantName : 흑돼지가노는집\n",
      "Address : 제주 제주시 애월읍 하귀1리 1362-1번지\n",
      "Menu : 흑돼지 모듬600g:62000, 흑돼지 오겹살 200g:22000, 흑돼지 목살 200g:22000, 흑돼지 항정살 200g:22000, 흑돼지 가브리살 200g:22000, 김치\n",
      "VisitWith : 부모님\n",
      "\n",
      "가게명 : 돈어길\n",
      "pk : 1815\n",
      "리뷰 : \n",
      "1. 부모님이랑 같이 방문했어요! 숙성이라고 무조건 비싼 고깃집이 아닌 서비스와 퀄리티도 좋은 흑돼지맛집이었어요🔥👍 부모님도 너무 만족하셔서 기분이 좋았습니다🥹🧡 고기도 야들야들 냄새나\n",
      "2. 흑돼지 맛집으로 소문난 곳이에요. 신선하고 부드러운 살과 정갈한 반찬, 사장님 직원분들 친절하고 서비스도 잘 주세요 상추만 몇번 리필했네요 ㅎㅎ\n",
      "평점 : naver 4.97(56명), kakao 4.8(160명), google 4.8(489명)\n",
      "음식 유형 : 가정식\n",
      "방문 목적 top 3 : 여행, 데이트, 친목\n",
      "대기 시간 통계 : 1시간 이상:2,30분 이내:16,10분 이내:19,바로 입장:58,30분 이상:2\n",
      "예약 필요 여부 통계 : 예약 없이 이용:62,예약 후 이용:32\n",
      "메뉴 : 21일 숙성 제주흑돈 삼겹:18000, 전복술밥:8000, 된장술밥:7000, 마늘밥:3000, 김치찜:5000, 14일 숙성 제주돼지 항정살:18000, 21일 숙성 제주흑돈 목\n",
      "\n",
      "가게명 : 중문킹돈\n",
      "pk : 7511\n",
      "리뷰 : \n",
      "1. 낮에 한식뷔페 다녀왔는데 맛은 그냥 그래요\n",
      "메뉴만 다양해요\n",
      "2. 부모님이랑 같이가서 방문한곳이고요! 매장넓고 쾌적한 인테리어라서 마음에 들었어요ㅎㅎ 사장님도 친절하시고요! 흑돼지 2인시켰는데 고기질도 좋고 두껍고 육즙이 가듭하니 맛있더라구요.\n",
      "평점 : kakao 4.9(131명), google 4.5(15명)\n",
      "음식 유형 : 가정식\n",
      "방문 목적 top 3 : 여행, 일상, 친목\n",
      "대기 시간 통계 : 10분 이내:5,바로 입장:73\n",
      "예약 필요 여부 통계 : 예약 없이 이용:65,예약 후 이용:13\n",
      "메뉴 : 킹돈한판 100g:11000, 차돌 된장찌개:8000, 김치말이국수:7000, 비빔냉면:8000, 물냉면:8000, 간장계란밥:5000, 점심특선 한식뷔페:10000, 흑돼지근고기\n",
      "\n",
      "input tokens : 4,940\n",
      "('Seleted : \\n'\n",
      " \"{'decorational_mention_start': '60대 부모님과 함께 편안하고 맛있는 흑돼지를 즐기고 싶으시군요! \"\n",
      " \"👨\\\\u200d👩\\\\u200d👧\\\\u200d👦 부모님께서 좋아하실 만한 깔끔하고 정갈한 애월읍 흑돼지 맛집을 추천해 드릴게요.', \"\n",
      " \"'recommendations': [{'pk': 1815, 'review': '부모님이랑 같이 방문했어요! 숙성이라고 무조건 비싼 \"\n",
      " '고깃집이 아닌 서비스와 퀄리티도 좋은 흑돼지 맛집이었어요🔥👍 부모님도 너무 만족하셔서 기분이 좋았습니다🥹🧡 고기도 야들야들 냄새나지 않고 '\n",
      " \"맛있었어요.', 'desc': '📍 **주소**: 제주 제주시 애월읍 (주소 정보는 제공되지 않았습니다.)\\\\n\\\\n🍽️ **메뉴**: \"\n",
      " '21일 숙성 제주흑돈 삼겹(18,000원), 전복술밥(8,000원), 된장술밥(7,000원), 마늘밥(3,000원), '\n",
      " '김치찜(5,000원), 14일 숙성 제주돼지 항정살(18,000원), 21일 숙성 제주흑돈 '\n",
      " '목살(18,000원)\\\\n\\\\n👨\\\\u200d👩\\\\u200d👦 **가족을 위한 포인트**: “부모님과 함께 방문했는데 부모님이 너무 '\n",
      " '만족하셨다”는 후기처럼, 60대 부모님과 함께 방문하기 좋은 흑돼지 맛집입니다. 숙성된 흑돼지의 맛은 물론, 서비스와 퀄리티도 좋아 '\n",
      " '부모님을 만족시키기에 충분합니다. 고기가 야들야들하고 냄새가 나지 않아 부모님 입맛에도 잘 맞을 것으로 예상됩니다.\\\\n\\\\n⏱️ '\n",
      " '**대기 시간 통계**: 바로 입장한 비율이 약 58%로, 대부분 긴 대기 없이 이용할 수 있습니다. 30분 이내 입장이 약 35%로, '\n",
      " '대기 시간이 길지 않은 편입니다.\\\\n\\\\n📊 **예약 필요 여부**: 예약 없이 이용한 경우가 62회(약 64%)로, 별도의 예약 '\n",
      " '없이도 방문이 가능하지만, 예약을 원하는 경우 32회(약 33%)의 예약 이용 기록이 있습니다.\\\\n\\\\n돈어길은 60대 부모님과 함께 '\n",
      " '편안하고 쾌적한 분위기에서 흑돼지를 즐길 수 있는 곳으로 추천드립니다. 숙성된 흑돼지의 맛과 깔끔한 서비스는 부모님께 만족스러운 식사 '\n",
      " \"경험을 선사할 것입니다.'}, {'pk': 7146, 'review': '와우 고기가 두툼하니 넘 맛있네요 역시 흑돼지는 맛집에서 먹는게 \"\n",
      " \"답이네요 다른곳에서 흑돼지 먹어봤지만 여기랑 차원이 틀려요 냄새도 안나고 육즙이 가득가득 이네요 상차림도 깔끔하게 잘 나와요', \"\n",
      " \"'desc': '📍 **주소**: 제주 제주시 애월읍 애월리 2482-1번지 1층\\\\n\\\\n🍽️ **메뉴**: 훈도 점심한상 \"\n",
      " '2인(52,000원), 훈도 점심한상 3인(74,000원), 훈도 점심한상 4인(96,000원), 훈도 흑돼지[흑목살,흑삼겹] '\n",
      " '600G(66,000원), 찐 훈도흑돼지 [흑가브리살] 200G(28,000원)\\\\n\\\\n👨\\\\u200d👩\\\\u200d👦 **가족을 위한 '\n",
      " '포인트**: “고기가 두툼하고 맛있다”, “다른 곳과 차원이 다르다”, “냄새도 안 나고 육즙이 가득하다”, “상차림도 깔끔하다”는 '\n",
      " '후기처럼, 60대 부모님과 함께 흑돼지를 즐기기에 좋은 곳입니다. 흑돼지 특유의 잡내 없이 육즙 가득한 고기를 맛볼 수 있으며, 깔끔한 '\n",
      " '상차림은 부모님께 만족스러운 식사 경험을 선사할 것입니다.\\\\n\\\\n제주훈도애월흑돼지는 60대 부모님과 함께 흑돼지를 즐기기에 좋은 '\n",
      " \"곳으로 추천드립니다. 흑돼지의 맛은 물론, 깔끔한 분위기와 정갈한 상차림은 부모님께 편안하고 즐거운 식사 시간을 선사할 것입니다.'}, \"\n",
      " \"{'pk': 2201, 'review': '뷰가 좋아서 찾아온 집인데 고기맛이 너무 좋아요! 사장님께서 구워 주시면서 흑돼지에 대해 \"\n",
      " '설명도 해주시고, 껍질도 바짝 익혀 먹을 수 있게 잘라주셨어요, 남편이 육즙이 엄청 많다고 했어요. 흑돼지 양도 많고 너무 맛있네요-! '\n",
      " '매장 바로 앞이 바다라 좋고 사장님, 종업원님들 모두 친절하셔서 여행와서 좋은 추억 남기고 갑니다. 셀프바도 부담없이 이용할수 '\n",
      " \"있어요.**^^', 'desc': '📍 **주소**: 제주 제주시 애월읍 신엄리 989-2번지 1층\\\\n\\\\n🍽️ **메뉴**: 1879 \"\n",
      " '제육볶음(14,000원), 소주/맥주/막걸리(5,000원), 음료수(콜라/사이다/환타)(2,000원), 1879 제육볶음 혼밥 '\n",
      " '가능(14,000원), 초벌 버터듬뿍흑돈마호크 300g 기준(36,000원)\\\\n\\\\n👨\\\\u200d👩\\\\u200d👦 **가족을 위한 '\n",
      " '포인트**: “뷰가 좋고 고기 맛도 좋다”, “사장님이 친절하게 구워주시고 설명도 해주신다”, “흑돼지 양도 많고 맛있다”, “매장 바로 '\n",
      " '앞이 바다라 좋다”는 후기처럼, 60대 부모님과 함께 흑돼지를 즐기기에 좋은 곳입니다. 흑돼지 맛은 물론, 멋진 바다 전망과 친절한 '\n",
      " '서비스는 부모님께 즐거운 식사 경험을 선사할 것입니다.\\\\n\\\\n⏱️ **추가 정보**: 셀프바를 운영하고 있어 부족한 반찬을 편리하게 '\n",
      " '이용할 수 있습니다.\\\\n\\\\n로꼬돈흑돼지는 60대 부모님과 함께 흑돼지를 즐기기에 좋은 곳으로 추천드립니다. 흑돼지의 맛은 물론, 멋진 '\n",
      " \"바다 전망과 친절한 서비스는 부모님께 편안하고 즐거운 식사 시간을 선사할 것입니다.'}], \"\n",
      " \"'decorational_mention_end': '세 곳 모두 흑돼지 맛집으로 유명하며, 깔끔하고 정갈한 분위기와 친절한 서비스를 \"\n",
      " \"제공하여 부모님과 함께 편안하고 즐거운 식사를 할 수 있을 거예요. 맛있는 흑돼지 드시고 즐거운 시간 보내세요!'}\")\n",
      "Final formatting for recomm=========================================================================\n"
     ]
    },
    {
     "name": "stderr",
     "output_type": "stream",
     "text": [
      "2024-11-15 17:04:35.452 Thread 'MainThread': missing ScriptRunContext! This warning can be ignored when running in bare mode.\n",
      "2024-11-15 17:04:35.461 Thread 'MainThread': missing ScriptRunContext! This warning can be ignored when running in bare mode.\n",
      "2024-11-15 17:04:35.466 Thread 'MainThread': missing ScriptRunContext! This warning can be ignored when running in bare mode.\n",
      "2024-11-15 17:04:35.469 Thread 'MainThread': missing ScriptRunContext! This warning can be ignored when running in bare mode.\n",
      "2024-11-15 17:04:35.476 Thread 'MainThread': missing ScriptRunContext! This warning can be ignored when running in bare mode.\n",
      "2024-11-15 17:04:35.483 Thread 'MainThread': missing ScriptRunContext! This warning can be ignored when running in bare mode.\n",
      "2024-11-15 17:04:35.488 Thread 'MainThread': missing ScriptRunContext! This warning can be ignored when running in bare mode.\n",
      "2024-11-15 17:04:35.496 Thread 'MainThread': missing ScriptRunContext! This warning can be ignored when running in bare mode.\n",
      "2024-11-15 17:04:35.501 Thread 'MainThread': missing ScriptRunContext! This warning can be ignored when running in bare mode.\n",
      "2024-11-15 17:04:35.503 Thread 'MainThread': missing ScriptRunContext! This warning can be ignored when running in bare mode.\n",
      "2024-11-15 17:04:35.508 Thread 'MainThread': missing ScriptRunContext! This warning can be ignored when running in bare mode.\n",
      "2024-11-15 17:04:35.516 Thread 'MainThread': missing ScriptRunContext! This warning can be ignored when running in bare mode.\n",
      "2024-11-15 17:04:35.518 Thread 'MainThread': missing ScriptRunContext! This warning can be ignored when running in bare mode.\n"
     ]
    }
   ],
   "source": [
    "gs = GraphState(query=state['query'])\n",
    "result_gs = app.invoke(gs, config=config)"
   ]
  },
  {
   "cell_type": "code",
   "execution_count": 9,
   "metadata": {},
   "outputs": [
    {
     "data": {
      "text/plain": [
       "dict_keys(['query', 'query_type', 'subtype', 'intent', 'similar_query', 't2c_for_recomm', 'candidate_str', 'selected_recommendations', 'final_answer'])"
      ]
     },
     "execution_count": 9,
     "metadata": {},
     "output_type": "execute_result"
    }
   ],
   "source": [
    "result_gs.keys()"
   ]
  },
  {
   "cell_type": "code",
   "execution_count": 10,
   "metadata": {},
   "outputs": [
    {
     "data": {
      "text/plain": [
       "{'query': '60대 부모님이랑 갈만한 애월읍 흑돼지 맛집 추천해줘',\n",
       " 'query_type': 'recomm',\n",
       " 'subtype': 'purpose_and_visit_with',\n",
       " 'intent': '60대 부모님과 함께 편안하고 쾌적한 분위기에서 흑돼지를 즐길 수 있는, 깔끔하고 정갈한 맛집으로, 흑돼지의 맛은 물론 부모님의 입맛에도 잘 맞는 곳',\n",
       " 'similar_query': ['60대 부모님과 함께 가기 좋은 애월읍 흑돼지 맛집 중, 깔끔하고 조용한 곳은 어디일까요?',\n",
       "  '60대 부모님이 좋아하실 만한 애월읍 흑돼지 맛집으로, 푸짐하고 맛있는 메뉴를 제공하는 곳은 어디일까요?'],\n",
       " 't2c_for_recomm': 'MATCH (rg:Region {name: \"애월읍\"})-[:HAS_STORE]->(s:STORE)\\nWHERE s.MCT_NM CONTAINS \"흑돼지\"\\nMATCH (s)-[:HAS_VISIT_KEYWORD]->(v:Visit_with)\\nWHERE v.keyword CONTAINS \"부모님\"\\nRETURN s.pk AS pk, s.MCT_NM AS RestaurantName, s.ADDR AS Address, s.menu AS Menu, v.keyword AS VisitWith\\nLIMIT 500',\n",
       " 'candidate_str': 'pk : 7146\\n리뷰 : \\n1. 와우 고기가 두툼하니 넘 맛있네요 역시 흑돼지는 맛집에서 먹는게 답이네요 다른곳에서 흑돼지 먹어봤지만 여기랑 차원이 틀려요 냄새도 안나고 육즙이 가득가득 이네요 상차림도 깔끔하게\\n2. 가족과 여행와서 맛있게 잘먹었은곳.\\n아주 맛있어요.\\nRestaurantName : 제주훈도애월흑돼지\\nAddress : 제주 제주시 애월읍 애월리 2482-1번지 1층\\nMenu : 훈도 점심한상 2인:52000, 훈도 점심한상 3인:74000, 훈도 점심한상 4인:96000, 훈도 흑돼지[흑목살,흑삼겹] 600G:66000, 찐 훈도흑돼지 [흑가브리살] 20\\nVisitWith : 부모님\\n\\npk : 2201\\n리뷰 : \\n1. 뷰가 좋아서 찾아온 집인데 고기맛이 너무 좋아요! 사장님께서 구워 주시면서 흑돼지에 대해 설명도 해주시고, 껍질도 바짝 익혀 먹을 수 있게 잘라주셨어요, 남편이 육즙이 엄청 많다고\\n2. 흑돼지 양도 많고 너무 맛있네요-!\\n매장 바로 앞이 바다라 좋고 사장님, 종업원님들 모두 친절하셔서 여행와서 좋은 추억 남기고 갑니다.\\n셀프바도 부담없이 이용할수 있어요.**^^\\nRestaurantName : 로꼬돈흑돼지\\nAddress : 제주 제주시 애월읍 신엄리 989-2번지 1층\\nMenu : 1879 제육볶음:14000, 소주/맥주/막걸리:5000, 음료수(콜라/사이다/환타):2000, 1879 제육볶음 혼밥 가능:14000, 초벌 버터듬뿍흑돈마호크 300g 기준:36\\nVisitWith : 부모님\\n\\npk : 9461\\n리뷰 : \\n1. 흑돼지먹으러오면 여기로와요 반찬부터\\n고기까지 다 맛있습니다\\n2. 정말 맛있게 먹었습니다\\nRestaurantName : 흑돼지가노는집\\nAddress : 제주 제주시 애월읍 하귀1리 1362-1번지\\nMenu : 흑돼지 모듬600g:62000, 흑돼지 오겹살 200g:22000, 흑돼지 목살 200g:22000, 흑돼지 항정살 200g:22000, 흑돼지 가브리살 200g:22000, 김치\\nVisitWith : 부모님\\n\\n가게명 : 돈어길\\npk : 1815\\n리뷰 : \\n1. 부모님이랑 같이 방문했어요! 숙성이라고 무조건 비싼 고깃집이 아닌 서비스와 퀄리티도 좋은 흑돼지맛집이었어요🔥👍 부모님도 너무 만족하셔서 기분이 좋았습니다🥹🧡 고기도 야들야들 냄새나\\n2. 흑돼지 맛집으로 소문난 곳이에요. 신선하고 부드러운 살과 정갈한 반찬, 사장님 직원분들 친절하고 서비스도 잘 주세요 상추만 몇번 리필했네요 ㅎㅎ\\n평점 : naver 4.97(56명), kakao 4.8(160명), google 4.8(489명)\\n음식 유형 : 가정식\\n방문 목적 top 3 : 여행, 데이트, 친목\\n대기 시간 통계 : 1시간 이상:2,30분 이내:16,10분 이내:19,바로 입장:58,30분 이상:2\\n예약 필요 여부 통계 : 예약 없이 이용:62,예약 후 이용:32\\n메뉴 : 21일 숙성 제주흑돈 삼겹:18000, 전복술밥:8000, 된장술밥:7000, 마늘밥:3000, 김치찜:5000, 14일 숙성 제주돼지 항정살:18000, 21일 숙성 제주흑돈 목\\n\\n가게명 : 중문킹돈\\npk : 7511\\n리뷰 : \\n1. 낮에 한식뷔페 다녀왔는데 맛은 그냥 그래요\\n메뉴만 다양해요\\n2. 부모님이랑 같이가서 방문한곳이고요! 매장넓고 쾌적한 인테리어라서 마음에 들었어요ㅎㅎ 사장님도 친절하시고요! 흑돼지 2인시켰는데 고기질도 좋고 두껍고 육즙이 가듭하니 맛있더라구요.\\n평점 : kakao 4.9(131명), google 4.5(15명)\\n음식 유형 : 가정식\\n방문 목적 top 3 : 여행, 일상, 친목\\n대기 시간 통계 : 10분 이내:5,바로 입장:73\\n예약 필요 여부 통계 : 예약 없이 이용:65,예약 후 이용:13\\n메뉴 : 킹돈한판 100g:11000, 차돌 된장찌개:8000, 김치말이국수:7000, 비빔냉면:8000, 물냉면:8000, 간장계란밥:5000, 점심특선 한식뷔페:10000, 흑돼지근고기',\n",
       " 'selected_recommendations': {'decorational_mention_start': '60대 부모님과 함께 편안하고 맛있는 흑돼지를 즐기고 싶으시군요! 👨\\u200d👩\\u200d👧\\u200d👦 부모님께서 좋아하실 만한 깔끔하고 정갈한 애월읍 흑돼지 맛집을 추천해 드릴게요.',\n",
       "  'recommendations': [{'pk': 1815,\n",
       "    'review': '부모님이랑 같이 방문했어요! 숙성이라고 무조건 비싼 고깃집이 아닌 서비스와 퀄리티도 좋은 흑돼지 맛집이었어요🔥👍 부모님도 너무 만족하셔서 기분이 좋았습니다🥹🧡 고기도 야들야들 냄새나지 않고 맛있었어요.',\n",
       "    'desc': '📍 **주소**: 제주 제주시 애월읍 (주소 정보는 제공되지 않았습니다.)\\n\\n🍽️ **메뉴**: 21일 숙성 제주흑돈 삼겹(18,000원), 전복술밥(8,000원), 된장술밥(7,000원), 마늘밥(3,000원), 김치찜(5,000원), 14일 숙성 제주돼지 항정살(18,000원), 21일 숙성 제주흑돈 목살(18,000원)\\n\\n👨\\u200d👩\\u200d👦 **가족을 위한 포인트**: “부모님과 함께 방문했는데 부모님이 너무 만족하셨다”는 후기처럼, 60대 부모님과 함께 방문하기 좋은 흑돼지 맛집입니다. 숙성된 흑돼지의 맛은 물론, 서비스와 퀄리티도 좋아 부모님을 만족시키기에 충분합니다. 고기가 야들야들하고 냄새가 나지 않아 부모님 입맛에도 잘 맞을 것으로 예상됩니다.\\n\\n⏱️ **대기 시간 통계**: 바로 입장한 비율이 약 58%로, 대부분 긴 대기 없이 이용할 수 있습니다. 30분 이내 입장이 약 35%로, 대기 시간이 길지 않은 편입니다.\\n\\n📊 **예약 필요 여부**: 예약 없이 이용한 경우가 62회(약 64%)로, 별도의 예약 없이도 방문이 가능하지만, 예약을 원하는 경우 32회(약 33%)의 예약 이용 기록이 있습니다.\\n\\n돈어길은 60대 부모님과 함께 편안하고 쾌적한 분위기에서 흑돼지를 즐길 수 있는 곳으로 추천드립니다. 숙성된 흑돼지의 맛과 깔끔한 서비스는 부모님께 만족스러운 식사 경험을 선사할 것입니다.'},\n",
       "   {'pk': 7146,\n",
       "    'review': '와우 고기가 두툼하니 넘 맛있네요 역시 흑돼지는 맛집에서 먹는게 답이네요 다른곳에서 흑돼지 먹어봤지만 여기랑 차원이 틀려요 냄새도 안나고 육즙이 가득가득 이네요 상차림도 깔끔하게 잘 나와요',\n",
       "    'desc': '📍 **주소**: 제주 제주시 애월읍 애월리 2482-1번지 1층\\n\\n🍽️ **메뉴**: 훈도 점심한상 2인(52,000원), 훈도 점심한상 3인(74,000원), 훈도 점심한상 4인(96,000원), 훈도 흑돼지[흑목살,흑삼겹] 600G(66,000원), 찐 훈도흑돼지 [흑가브리살] 200G(28,000원)\\n\\n👨\\u200d👩\\u200d👦 **가족을 위한 포인트**: “고기가 두툼하고 맛있다”, “다른 곳과 차원이 다르다”, “냄새도 안 나고 육즙이 가득하다”, “상차림도 깔끔하다”는 후기처럼, 60대 부모님과 함께 흑돼지를 즐기기에 좋은 곳입니다. 흑돼지 특유의 잡내 없이 육즙 가득한 고기를 맛볼 수 있으며, 깔끔한 상차림은 부모님께 만족스러운 식사 경험을 선사할 것입니다.\\n\\n제주훈도애월흑돼지는 60대 부모님과 함께 흑돼지를 즐기기에 좋은 곳으로 추천드립니다. 흑돼지의 맛은 물론, 깔끔한 분위기와 정갈한 상차림은 부모님께 편안하고 즐거운 식사 시간을 선사할 것입니다.'},\n",
       "   {'pk': 2201,\n",
       "    'review': '뷰가 좋아서 찾아온 집인데 고기맛이 너무 좋아요! 사장님께서 구워 주시면서 흑돼지에 대해 설명도 해주시고, 껍질도 바짝 익혀 먹을 수 있게 잘라주셨어요, 남편이 육즙이 엄청 많다고 했어요. 흑돼지 양도 많고 너무 맛있네요-! 매장 바로 앞이 바다라 좋고 사장님, 종업원님들 모두 친절하셔서 여행와서 좋은 추억 남기고 갑니다. 셀프바도 부담없이 이용할수 있어요.**^^',\n",
       "    'desc': '📍 **주소**: 제주 제주시 애월읍 신엄리 989-2번지 1층\\n\\n🍽️ **메뉴**: 1879 제육볶음(14,000원), 소주/맥주/막걸리(5,000원), 음료수(콜라/사이다/환타)(2,000원), 1879 제육볶음 혼밥 가능(14,000원), 초벌 버터듬뿍흑돈마호크 300g 기준(36,000원)\\n\\n👨\\u200d👩\\u200d👦 **가족을 위한 포인트**: “뷰가 좋고 고기 맛도 좋다”, “사장님이 친절하게 구워주시고 설명도 해주신다”, “흑돼지 양도 많고 맛있다”, “매장 바로 앞이 바다라 좋다”는 후기처럼, 60대 부모님과 함께 흑돼지를 즐기기에 좋은 곳입니다. 흑돼지 맛은 물론, 멋진 바다 전망과 친절한 서비스는 부모님께 즐거운 식사 경험을 선사할 것입니다.\\n\\n⏱️ **추가 정보**: 셀프바를 운영하고 있어 부족한 반찬을 편리하게 이용할 수 있습니다.\\n\\n로꼬돈흑돼지는 60대 부모님과 함께 흑돼지를 즐기기에 좋은 곳으로 추천드립니다. 흑돼지의 맛은 물론, 멋진 바다 전망과 친절한 서비스는 부모님께 편안하고 즐거운 식사 시간을 선사할 것입니다.'}],\n",
       "  'decorational_mention_end': '세 곳 모두 흑돼지 맛집으로 유명하며, 깔끔하고 정갈한 분위기와 친절한 서비스를 제공하여 부모님과 함께 편안하고 즐거운 식사를 할 수 있을 거예요. 맛있는 흑돼지 드시고 즐거운 시간 보내세요!'},\n",
       " 'final_answer': '\\n        <div style=\"background-color: #f9f9f9; padding: 20px; border-radius: 10px; box-shadow: 2px 2px 12px rgba(0, 0, 0, 0.1);\">\\n        <h5 style=\"font-size: 16px; margin-bottom: 10px;\">🔍 질문 의도를 다음과 같이 파악했어요 🤖</h5>\\n        <ul style=\"list-style-type: none; padding-left: 0;\">\\n        <li style=\\'margin-bottom: 8px;\\'>60대 부모님과 함께 편안하고 쾌적한 분위기에서 흑돼지를 즐길 수 있는, 깔끔하고 정갈한 맛집으로, 흑돼지의 맛은 물론 부모님의 입맛에도 잘 맞는 곳</li></ul>\\n        </div>\\n\\n#### 1. 돈어길\\n<div style=\"display: flex; gap: 10px;\">\\n<img src=\"https://search.pstatic.net/common/?autoRotate=true&type=w560_sharpen&src=https%3A%2F%2Fldb-phinf.pstatic.net%2F20230411_103%2F1681206173277z1jCx_JPEG%2F20230326_171526.jpg\" alt=\"Naver Image\" style=\"width: 200px; height: 200px; object-fit: cover; border-radius: 10%;\">\\n<img src=\"https://t1.kakaocdn.net/thumb/T800x0.q50/?fname=http%3A%2F%2Ft1.kakaocdn.net%2Fmystore%2F74DF1DCC44054F96A496293EF8787C22\" alt=\"Naver Image\" style=\"width: 200px; height: 200px; object-fit: cover; border-radius: 10%;\">\\n<img src=\"https://lh5.googleusercontent.com/p/AF1QipM3Yj7eNr4u1AGKHZ3VLI7I1JK9683hYo2Tpsb_=w408-h408-k-no\" alt=\"Naver Image\" style=\"width: 200px; height: 200px; object-fit: cover; border-radius: 10%;\"></div>\\n\\n<div style=\"display: flex; align-items: center; margin-bottom: 10px;\">    <div style=\"margin-right: 20px;\">\\n        <span style=\"font-weight: bold; color: #1EC800;\">Naver</span> :\\n        <span style=\"font-weight: bold; font-size: 1.1em;\">⭐4.97</span> (56명)\\n    </div>    <div style=\"margin-right: 20px;\">\\n        <span style=\"font-weight: bold; color: #FEE500;\">Kakao</span> :\\n        <span style=\"font-weight: bold; font-size: 1.1em;\">⭐4.8</span> (160명)\\n    </div>    <div style=\"margin-right: 20px;\">\\n        <span style=\"font-weight: bold; color: #4285F4;\">G</span><span style=\"font-weight: bold; color: #EA4335;\">o</span><span style=\"font-weight: bold; color: #FBBC05;\">o</span><span style=\"font-weight: bold; color: #4285F4;\">g</span><span style=\"font-weight: bold; color: #34A853;\">l</span><span style=\"font-weight: bold; color: #EA4335;\">e</span></span>: \\n        <span style=\"font-weight: bold; font-size: 1.1em;\">⭐4.8</span> (489명)\\n    </div></div>\\n<div style=\"background-color: #f9f9f9; padding: 10px 15px; border-left: 4px solid #FFA500; margin-bottom: 20px;\">\\n        <p style=\"font-style: italic; margin: 0;\">\\n            <strong>리뷰: \"부모님이랑 같이 방문했어요! 숙성이라고 무조건 비싼 고깃집이 아닌 서비스와 퀄리티도 좋은 흑돼지 맛집이었어요🔥👍 부모님도 너무 만족하셔서 기분이 좋았습니다🥹🧡 고기도 야들야들 냄새나지 않고 맛있었어요.\"</strong>\\n        </p>\\n    </div>\\n\\n📍 **주소**: 제주 제주시 애월읍 (주소 정보는 제공되지 않았습니다.)\\n\\n🍽️ **메뉴**: 21일 숙성 제주흑돈 삼겹(18,000원), 전복술밥(8,000원), 된장술밥(7,000원), 마늘밥(3,000원), 김치찜(5,000원), 14일 숙성 제주돼지 항정살(18,000원), 21일 숙성 제주흑돈 목살(18,000원)\\n\\n👨\\u200d👩\\u200d👦 **가족을 위한 포인트**: “부모님과 함께 방문했는데 부모님이 너무 만족하셨다”는 후기처럼, 60대 부모님과 함께 방문하기 좋은 흑돼지 맛집입니다. 숙성된 흑돼지의 맛은 물론, 서비스와 퀄리티도 좋아 부모님을 만족시키기에 충분합니다. 고기가 야들야들하고 냄새가 나지 않아 부모님 입맛에도 잘 맞을 것으로 예상됩니다.\\n\\n⏱️ **대기 시간 통계**: 바로 입장한 비율이 약 58%로, 대부분 긴 대기 없이 이용할 수 있습니다. 30분 이내 입장이 약 35%로, 대기 시간이 길지 않은 편입니다.\\n\\n📊 **예약 필요 여부**: 예약 없이 이용한 경우가 62회(약 64%)로, 별도의 예약 없이도 방문이 가능하지만, 예약을 원하는 경우 32회(약 33%)의 예약 이용 기록이 있습니다.\\n\\n돈어길은 60대 부모님과 함께 편안하고 쾌적한 분위기에서 흑돼지를 즐길 수 있는 곳으로 추천드립니다. 숙성된 흑돼지의 맛과 깔끔한 서비스는 부모님께 만족스러운 식사 경험을 선사할 것입니다.\\n\\n---\\n#### 2. 제주훈도애월흑돼지\\n<div style=\"display: flex; gap: 10px;\">\\n<img src=\"https://search.pstatic.net/common/?autoRotate=true&type=w560_sharpen&src=https%3A%2F%2Fvideo-phinf.pstatic.net%2F20240918_75%2F1726626103473DYz5Q_JPEG%2FkS2Z1aueGl_03.jpg\" alt=\"Naver Image\" style=\"width: 200px; height: 200px; object-fit: cover; border-radius: 10%;\">\\n<img src=\"https://lh5.googleusercontent.com/p/AF1QipMlAyLuq31wrKZcsbWK_VMF3rnmtW2YUI9Z68wd=w408-h393-k-no\" alt=\"Naver Image\" style=\"width: 200px; height: 200px; object-fit: cover; border-radius: 10%;\"></div>\\n\\n<div style=\"display: flex; align-items: center; margin-bottom: 10px;\">    <div style=\"margin-right: 20px;\">\\n        <span style=\"font-weight: bold; color: #4285F4;\">G</span><span style=\"font-weight: bold; color: #EA4335;\">o</span><span style=\"font-weight: bold; color: #FBBC05;\">o</span><span style=\"font-weight: bold; color: #4285F4;\">g</span><span style=\"font-weight: bold; color: #34A853;\">l</span><span style=\"font-weight: bold; color: #EA4335;\">e</span></span>: \\n        <span style=\"font-weight: bold; font-size: 1.1em;\">⭐4.6</span> (11명)\\n    </div></div>\\n<div style=\"background-color: #f9f9f9; padding: 10px 15px; border-left: 4px solid #FFA500; margin-bottom: 20px;\">\\n        <p style=\"font-style: italic; margin: 0;\">\\n            <strong>리뷰: \"와우 고기가 두툼하니 넘 맛있네요 역시 흑돼지는 맛집에서 먹는게 답이네요 다른곳에서 흑돼지 먹어봤지만 여기랑 차원이 틀려요 냄새도 안나고 육즙이 가득가득 이네요 상차림도 깔끔하게 잘 나와요\"</strong>\\n        </p>\\n    </div>\\n\\n📍 **주소**: 제주 제주시 애월읍 애월리 2482-1번지 1층\\n\\n🍽️ **메뉴**: 훈도 점심한상 2인(52,000원), 훈도 점심한상 3인(74,000원), 훈도 점심한상 4인(96,000원), 훈도 흑돼지[흑목살,흑삼겹] 600G(66,000원), 찐 훈도흑돼지 [흑가브리살] 200G(28,000원)\\n\\n👨\\u200d👩\\u200d👦 **가족을 위한 포인트**: “고기가 두툼하고 맛있다”, “다른 곳과 차원이 다르다”, “냄새도 안 나고 육즙이 가득하다”, “상차림도 깔끔하다”는 후기처럼, 60대 부모님과 함께 흑돼지를 즐기기에 좋은 곳입니다. 흑돼지 특유의 잡내 없이 육즙 가득한 고기를 맛볼 수 있으며, 깔끔한 상차림은 부모님께 만족스러운 식사 경험을 선사할 것입니다.\\n\\n제주훈도애월흑돼지는 60대 부모님과 함께 흑돼지를 즐기기에 좋은 곳으로 추천드립니다. 흑돼지의 맛은 물론, 깔끔한 분위기와 정갈한 상차림은 부모님께 편안하고 즐거운 식사 시간을 선사할 것입니다.\\n\\n---\\n#### 3. 로꼬돈흑돼지\\n<div style=\"display: flex; gap: 10px;\">\\n<img src=\"https://search.pstatic.net/common/?autoRotate=true&type=w560_sharpen&src=https%3A%2F%2Fldb-phinf.pstatic.net%2F20240618_255%2F1718698399690C0eaL_JPEG%2F1718698284853.jpg\" alt=\"Naver Image\" style=\"width: 200px; height: 200px; object-fit: cover; border-radius: 10%;\"></div>\\n\\n<div style=\"display: flex; align-items: center; margin-bottom: 10px;\"></div>\\n<div style=\"background-color: #f9f9f9; padding: 10px 15px; border-left: 4px solid #FFA500; margin-bottom: 20px;\">\\n        <p style=\"font-style: italic; margin: 0;\">\\n            <strong>리뷰: \"뷰가 좋아서 찾아온 집인데 고기맛이 너무 좋아요! 사장님께서 구워 주시면서 흑돼지에 대해 설명도 해주시고, 껍질도 바짝 익혀 먹을 수 있게 잘라주셨어요, 남편이 육즙이 엄청 많다고 했어요. 흑돼지 양도 많고 너무 맛있네요-! 매장 바로 앞이 바다라 좋고 사장님, 종업원님들 모두 친절하셔서 여행와서 좋은 추억 남기고 갑니다. 셀프바도 부담없이 이용할수 있어요.**^^\"</strong>\\n        </p>\\n    </div>\\n\\n📍 **주소**: 제주 제주시 애월읍 신엄리 989-2번지 1층\\n\\n🍽️ **메뉴**: 1879 제육볶음(14,000원), 소주/맥주/막걸리(5,000원), 음료수(콜라/사이다/환타)(2,000원), 1879 제육볶음 혼밥 가능(14,000원), 초벌 버터듬뿍흑돈마호크 300g 기준(36,000원)\\n\\n👨\\u200d👩\\u200d👦 **가족을 위한 포인트**: “뷰가 좋고 고기 맛도 좋다”, “사장님이 친절하게 구워주시고 설명도 해주신다”, “흑돼지 양도 많고 맛있다”, “매장 바로 앞이 바다라 좋다”는 후기처럼, 60대 부모님과 함께 흑돼지를 즐기기에 좋은 곳입니다. 흑돼지 맛은 물론, 멋진 바다 전망과 친절한 서비스는 부모님께 즐거운 식사 경험을 선사할 것입니다.\\n\\n⏱️ **추가 정보**: 셀프바를 운영하고 있어 부족한 반찬을 편리하게 이용할 수 있습니다.\\n\\n로꼬돈흑돼지는 60대 부모님과 함께 흑돼지를 즐기기에 좋은 곳으로 추천드립니다. 흑돼지의 맛은 물론, 멋진 바다 전망과 친절한 서비스는 부모님께 편안하고 즐거운 식사 시간을 선사할 것입니다.\\n\\n---\\n세 곳 모두 흑돼지 맛집으로 유명하며, 깔끔하고 정갈한 분위기와 친절한 서비스를 제공하여 부모님과 함께 편안하고 즐거운 식사를 할 수 있을 거예요. 맛있는 흑돼지 드시고 즐거운 시간 보내세요!\\n'}"
      ]
     },
     "execution_count": 10,
     "metadata": {},
     "output_type": "execute_result"
    }
   ],
   "source": [
    "result_gs"
   ]
  },
  {
   "cell_type": "code",
   "execution_count": 11,
   "metadata": {},
   "outputs": [],
   "source": [
    "from llm_response.langgraph_nodes.routing.route_and_intent_analysis import route_and_intent_analysis"
   ]
  },
  {
   "cell_type": "code",
   "execution_count": 14,
   "metadata": {},
   "outputs": [
    {
     "name": "stderr",
     "output_type": "stream",
     "text": [
      "2024-11-15 17:05:14.588 Thread 'MainThread': missing ScriptRunContext! This warning can be ignored when running in bare mode.\n",
      "2024-11-15 17:05:14.590 Thread 'MainThread': missing ScriptRunContext! This warning can be ignored when running in bare mode.\n",
      "2024-11-15 17:05:14.594 Thread 'MainThread': missing ScriptRunContext! This warning can be ignored when running in bare mode.\n",
      "2024-11-15 17:05:14.597 Thread 'MainThread': missing ScriptRunContext! This warning can be ignored when running in bare mode.\n"
     ]
    },
    {
     "name": "stdout",
     "output_type": "stream",
     "text": [
      "Routing and intent analysis=========================================================================\n",
      "query : 60대 부모님이랑 갈만한 애월읍 흑돼지 맛집 추천해줘\n"
     ]
    },
    {
     "name": "stderr",
     "output_type": "stream",
     "text": [
      "2024-11-15 17:05:16.318 Thread 'MainThread': missing ScriptRunContext! This warning can be ignored when running in bare mode.\n",
      "2024-11-15 17:05:16.321 Thread 'MainThread': missing ScriptRunContext! This warning can be ignored when running in bare mode.\n"
     ]
    },
    {
     "name": "stdout",
     "output_type": "stream",
     "text": [
      "\n",
      "```json\n",
      "{\n",
      "    \"query_type\": \"recomm\",\n",
      "    \"subtype\": \"purpose_and_visit_with\",\n",
      "    \"comment\": \"😊 이 질문은 추천형 질문으로 분류되었어요!\",\n",
      "    \"intent\": \"60대 부모님과 함께 편안하고 쾌적한 분위기에서 흑돼지를 즐길 수 있는, 깔끔하고 정갈한 맛집으로, 흑돼지의 맛은 물론 부모님의 입맛에도 잘 맞는 곳\",\n",
      "    \"similar_query\": [\n",
      "        \"60대 부모님과 함께 가기 좋은 애월읍 흑돼지 맛집 중, 깔끔하고 조용한 곳은 어디일까요?\",\n",
      "        \"60대 부모님이 좋아하실 만한 애월읍 흑돼지 맛집으로, 푸짐하고 맛있는 메뉴를 제공하는 곳은 어디일까요?\"\n",
      "    ]\n",
      "}\n",
      "```\n",
      "# input_tokens count : 2683\n",
      "state : {'query': '60대 부모님이랑 갈만한 애월읍 흑돼지 맛집 추천해줘', 'query_type': 'recomm', 'intent': '60대 부모님과 함께 편안하고 쾌적한 분위기에서 흑돼지를 즐길 수 있는, 깔끔하고 정갈한 맛집으로, 흑돼지의 맛은 물론 부모님의 입맛에도 잘 맞는 곳', 'similar_query': ['60대 부모님과 함께 가기 좋은 애월읍 흑돼지 맛집 중, 깔끔하고 조용한 곳은 어디일까요?', '60대 부모님이 좋아하실 만한 애월읍 흑돼지 맛집으로, 푸짐하고 맛있는 메뉴를 제공하는 곳은 어디일까요?'], 'subtype': 'purpose_and_visit_with'}\n"
     ]
    }
   ],
   "source": [
    "from llm_response.get_llm_model import get_llm_model\n",
    "\n",
    "llm = get_llm_model()\n",
    "\n",
    "gs = GraphState(query=state['query'])\n",
    "state = route_and_intent_analysis(llm, gs)"
   ]
  },
  {
   "cell_type": "code",
   "execution_count": 15,
   "metadata": {},
   "outputs": [
    {
     "data": {
      "text/plain": [
       "{'query': '60대 부모님이랑 갈만한 애월읍 흑돼지 맛집 추천해줘',\n",
       " 'query_type': 'recomm',\n",
       " 'intent': '60대 부모님과 함께 편안하고 쾌적한 분위기에서 흑돼지를 즐길 수 있는, 깔끔하고 정갈한 맛집으로, 흑돼지의 맛은 물론 부모님의 입맛에도 잘 맞는 곳',\n",
       " 'similar_query': ['60대 부모님과 함께 가기 좋은 애월읍 흑돼지 맛집 중, 깔끔하고 조용한 곳은 어디일까요?',\n",
       "  '60대 부모님이 좋아하실 만한 애월읍 흑돼지 맛집으로, 푸짐하고 맛있는 메뉴를 제공하는 곳은 어디일까요?'],\n",
       " 'subtype': 'purpose_and_visit_with'}"
      ]
     },
     "execution_count": 15,
     "metadata": {},
     "output_type": "execute_result"
    }
   ],
   "source": [
    "state\n"
   ]
  },
  {
   "cell_type": "code",
   "execution_count": 17,
   "metadata": {},
   "outputs": [
    {
     "data": {
      "text/plain": [
       "['60대 부모님과 함께 가기 좋은 애월읍 흑돼지 맛집 중, 깔끔하고 조용한 곳은 어디일까요?',\n",
       " '60대 부모님이 좋아하실 만한 애월읍 흑돼지 맛집으로, 푸짐하고 맛있는 메뉴를 제공하는 곳은 어디일까요?']"
      ]
     },
     "execution_count": 17,
     "metadata": {},
     "output_type": "execute_result"
    }
   ],
   "source": [
    "state['similar_query']"
   ]
  }
 ],
 "metadata": {
  "kernelspec": {
   "display_name": "latest",
   "language": "python",
   "name": "latest"
  },
  "language_info": {
   "codemirror_mode": {
    "name": "ipython",
    "version": 3
   },
   "file_extension": ".py",
   "mimetype": "text/x-python",
   "name": "python",
   "nbconvert_exporter": "python",
   "pygments_lexer": "ipython3",
   "version": "3.11.10"
  }
 },
 "nbformat": 4,
 "nbformat_minor": 4
}
