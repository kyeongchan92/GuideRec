{
 "cells": [
  {
   "cell_type": "code",
   "execution_count": 1,
   "id": "2d420181-4f50-4533-bfac-fc7ba4a5647e",
   "metadata": {},
   "outputs": [],
   "source": [
    "import os"
   ]
  },
  {
   "cell_type": "code",
   "execution_count": 2,
   "id": "582fcfaa-e345-466d-b226-61c6f0f0d7ce",
   "metadata": {},
   "outputs": [
    {
     "data": {
      "text/plain": [
       "'/Users/kyeongchanlee/projects/bigcontest2024/analysis'"
      ]
     },
     "execution_count": 2,
     "metadata": {},
     "output_type": "execute_result"
    }
   ],
   "source": [
    "os.getcwd()"
   ]
  },
  {
   "cell_type": "code",
   "execution_count": 3,
   "id": "4ad34262-b6a2-4961-9132-4c238a3a82ab",
   "metadata": {},
   "outputs": [],
   "source": [
    "os.chdir('../')"
   ]
  },
  {
   "cell_type": "code",
   "execution_count": 4,
   "id": "60f152db-8aba-41fa-953d-76c3d1a4c293",
   "metadata": {},
   "outputs": [
    {
     "data": {
      "text/plain": [
       "'/Users/kyeongchanlee/projects/bigcontest2024'"
      ]
     },
     "execution_count": 4,
     "metadata": {},
     "output_type": "execute_result"
    }
   ],
   "source": [
    "os.getcwd()"
   ]
  },
  {
   "cell_type": "code",
   "execution_count": 5,
   "id": "60bbd46b-e1a8-43e9-86e6-76420495645d",
   "metadata": {},
   "outputs": [
    {
     "name": "stderr",
     "output_type": "stream",
     "text": [
      "/Users/kyeongchanlee/.pyenv/versions/bigcontest2024/lib/python3.10/site-packages/sentence_transformers/cross_encoder/CrossEncoder.py:13: TqdmExperimentalWarning: Using `tqdm.autonotebook.tqdm` in notebook mode. Use `tqdm.tqdm` instead to force console mode (e.g. in jupyter console)\n",
      "  from tqdm.autonotebook import tqdm, trange\n"
     ]
    }
   ],
   "source": [
    "from graphrag.get_embedding_model import get_embedding_model\n",
    "from graphrag.graph_search import retrieve_top_k_stores_by_review_graph_embedding, process_review_node\n",
    "from llm_response.langgraph_graph_state import GraphState\n",
    "from llm_response.utils.recomm_get_store_nodes.intent_guide import IntentGuide\n",
    "from llm_response.utils.recomm_get_store_nodes.t2c import text_to_cypher_for_recomm\n",
    "from llm_response.utils.recomm_get_store_nodes.top_similar_stores import retrieve_top_similar_stores_pk\n",
    "from llm_response.utils.recomm_get_store_nodes.utils import convert_markdown_to_html\n",
    "from llm_response.utils.recomm_get_store_nodes.cypher_result_to_str import get_cypher_result_to_str\n",
    "\n",
    "\n",
    "import streamlit as st\n",
    "import re\n",
    "\n",
    "from prompt.text_to_cypher_for_recomm import EXAMPLES_COMBINED, NEO4J_SCHEMA_RECOMM, TEXT_TO_CYPHER_FOR_RECOMM_TEMPLATE\n",
    "from utils import get_candidate_str\n",
    "from concurrent.futures import ThreadPoolExecutor, as_completed\n",
    "import time"
   ]
  },
  {
   "cell_type": "code",
   "execution_count": 6,
   "id": "fcc810da-d14e-431b-b243-2dfcdce29793",
   "metadata": {},
   "outputs": [],
   "source": [
    "embedding_model = get_embedding_model()  # 초기화된 모델을 재사용"
   ]
  },
  {
   "cell_type": "code",
   "execution_count": 7,
   "id": "c4d3cc63-c982-4d02-b92a-4a6e444db257",
   "metadata": {},
   "outputs": [],
   "source": [
    "from llm_response.get_llm_model import get_llm_model\n",
    "from graphrag.graph_search import get_neo4j_vector_graph\n",
    "from config import CONFIG\n",
    "\n",
    "llm = get_llm_model()\n",
    "from utils import graphdb_driver\n",
    "store_retriever_grp_emb = get_neo4j_vector_graph().as_retriever(search_kwargs={\"k\": CONFIG.store_retriever_rev_emb_k})\n",
    "state = {\n",
    "    'query' : '협재해수욕장 근처 70대 부모님이랑 같이 가기 좋은 한식당 추천해줘',\n",
    "    'intent' : '70대 부모님과 함께 편안하고 쾌적하게 식사를 즐길 수 있는, 깔끔하고 정갈한 한식 메뉴를 제공하는 협재해수욕장 근처 한식당'\n",
    "}"
   ]
  },
  {
   "cell_type": "code",
   "execution_count": null,
   "id": "bca86f27-5133-46da-8cb6-83afde42a27f",
   "metadata": {},
   "outputs": [],
   "source": [
    "llm.get_num_tokens('안녕')"
   ]
  },
  {
   "cell_type": "code",
   "execution_count": 8,
   "id": "223fc76e-4ac9-4dee-a3dd-fe6c4f4980b7",
   "metadata": {},
   "outputs": [
    {
     "name": "stdout",
     "output_type": "stream",
     "text": [
      "Text2Cypher for RECOMM------------------------------------------------------------------------------\n",
      "# cypher : \n",
      "MATCH (rg:Region)-[:HAS_STORE]->(s:STORE)-[:HAS_VISIT_KEYWORD]->(v:Visit_with)\n",
      "WHERE rg.name CONTAINS \"협재\" AND s.MCT_TYPE IN ['가정식', '일식', '한식'] AND v.keyword CONTAINS \"부모님\"\n",
      "RETURN s.pk AS pk, s.MCT_NM AS RestaurantName, s.ADDR AS Address, s.menu AS Menu, v.keyword AS VisitWith\n",
      "LIMIT 500\n",
      "\n",
      "# input_tokens count : 3530\n",
      "----------------------------------------------------------------------------------------------------\n"
     ]
    }
   ],
   "source": [
    "state = text_to_cypher_for_recomm(llm, state)"
   ]
  },
  {
   "cell_type": "code",
   "execution_count": 9,
   "id": "5ebbc530-7599-488c-bc01-4fe67d2ee16a",
   "metadata": {},
   "outputs": [],
   "source": [
    "candidates_1st, summary, keys = graphdb_driver.execute_query(state['t2c_for_recomm'])"
   ]
  },
  {
   "cell_type": "code",
   "execution_count": 10,
   "id": "e3591a4b-6ae7-4c37-9dcc-514b920fda15",
   "metadata": {},
   "outputs": [
    {
     "data": {
      "text/plain": [
       "[]"
      ]
     },
     "execution_count": 10,
     "metadata": {},
     "output_type": "execute_result"
    }
   ],
   "source": [
    "candidates_1st"
   ]
  },
  {
   "cell_type": "code",
   "execution_count": 16,
   "id": "43bca500-29fe-4fc1-ba5a-782fbcd433a4",
   "metadata": {},
   "outputs": [],
   "source": [
    "lack_num = CONFIG.recomm_candidates_num - len(candidates_1st)"
   ]
  },
  {
   "cell_type": "code",
   "execution_count": 17,
   "id": "d345463f-d0e7-4f0e-934c-037231c8ad03",
   "metadata": {},
   "outputs": [],
   "source": [
    "from graphrag.retriever import get_neo4j_vector"
   ]
  },
  {
   "cell_type": "code",
   "execution_count": 19,
   "id": "4fadd81c-0ac3-4208-99c2-bd891f6908de",
   "metadata": {},
   "outputs": [],
   "source": [
    "store_retriever_rev_emb = get_neo4j_vector().as_retriever(search_kwargs={\"k\": 6})"
   ]
  },
  {
   "cell_type": "code",
   "execution_count": 23,
   "id": "1944c596-c1bc-4ff1-8fba-de26ff12cc8b",
   "metadata": {},
   "outputs": [],
   "source": [
    "review_retrieval = store_retriever_rev_emb.invoke(state['intent'])"
   ]
  },
  {
   "cell_type": "code",
   "execution_count": null,
   "id": "e102323d-d903-410c-80b3-67d938c39958",
   "metadata": {},
   "outputs": [],
   "source": [
    "retrievalQuery_v3"
   ]
  },
  {
   "cell_type": "code",
   "execution_count": 31,
   "id": "3c1c9474-ed00-4f08-b3bd-9547bae096d0",
   "metadata": {},
   "outputs": [],
   "source": [
    "def retrieve_top_k_reviews(store_pk, query_embedding, driver, k=2):\n",
    "    \"\"\"\n",
    "    특정 STORE 노드에 연결된 리뷰 중 유사한 TOP-K 리뷰를 반환합니다.\n",
    "    \"\"\"\n",
    "    query = \"\"\"\n",
    "    MATCH (s:STORE {pk: $store_pk})-[:HAS_REVIEW]->(r:Review)\n",
    "    WHERE r.textEmbedding IS NOT NULL\n",
    "    RETURN r.text AS text, gds.similarity.cosine(r.textEmbedding, $query_embedding) AS similarity\n",
    "    ORDER BY similarity DESC\n",
    "    LIMIT $k\n",
    "    \"\"\"\n",
    "    with driver.session() as session:\n",
    "        result = session.run(\n",
    "            query, store_pk=store_pk, query_embedding=query_embedding, k=k\n",
    "        )\n",
    "        return [\n",
    "            {\"text\": record[\"text\"], \"similarity\": record[\"similarity\"]}\n",
    "            for record in result\n",
    "        ]"
   ]
  },
  {
   "cell_type": "code",
   "execution_count": 32,
   "id": "b537aab5-edad-4614-86cb-7764eef5fb47",
   "metadata": {},
   "outputs": [],
   "source": [
    "def get_candidate_str(candidates, query_embedding, graphdb_driver, review_k):\n",
    "    drop_dup = []\n",
    "    for r in candidates:\n",
    "        if r.metadata['pk'] not in [d.metadata['pk'] for d in drop_dup]:\n",
    "            drop_dup.append(r)\n",
    "\n",
    "    candidates_str = ''\n",
    "    for d in drop_dup:\n",
    "        # 가게명\n",
    "        candidates_str += f\"가게명 : {d.metadata['storeName']}\\n\"\n",
    "        # pk\n",
    "        candidates_str += f\"pk : {d.metadata['pk']}\\n\"\n",
    "        # 리뷰\n",
    "        reviews = retrieve_top_k_reviews(d.metadata['pk'], query_embedding, graphdb_driver, k=review_k)\n",
    "        if reviews:\n",
    "            reviews_lst = [f\"{ri}. {review['text'][:100]}\".strip() for ri, review in enumerate(reviews, start=1)]\n",
    "            candidates_str += \"리뷰 : \\n\" + '\\n'.join(reviews_lst) + \"\\n\"\n",
    "        # 평점\n",
    "        ratings_lst = []\n",
    "        for platform in ['naver', 'kakao', 'google']:\n",
    "            if (platform in d.metadata['store_Rating']) and (d.metadata['store_Rating'][platform] is not None):\n",
    "                pf_rating = d.metadata['store_Rating'][platform]\n",
    "            else:\n",
    "                continue\n",
    "            if platform in d.metadata['reviewCount'] and (d.metadata['reviewCount'][platform] is not None):\n",
    "                pf_rc = d.metadata['reviewCount'][platform]\n",
    "            else:\n",
    "                continue\n",
    "            ratings_lst.append(f\"{platform} {pf_rating}({pf_rc}명)\")\n",
    "        rating_str = ', '.join(ratings_lst)\n",
    "        candidates_str += f\"평점 : {rating_str}\\n\"\n",
    "        # 주소\n",
    "        if 'store_Addr' in d.metadata:\n",
    "            candidates_str += f\"주소 : {d.metadata['store_Addr']}\\n\"\n",
    "        # 음식 유형\n",
    "        if 'store_Type' in d.metadata:\n",
    "            candidates_str += f\"음식 유형 : {d.metadata['store_Type']}\\n\"\n",
    "        # 방문 목적 top 3 \n",
    "        if 'purpose' in d.metadata:\n",
    "            candidates_str += f\"방문 목적 top 3 : {d.metadata['purpose']}\\n\"\n",
    "        # 대기 시간 통계\n",
    "        if 'wait_time' in d.metadata:\n",
    "            wait_time_str = d.metadata['wait_time'].replace('{', '').replace('}', '').replace('\"', '')\n",
    "            candidates_str += f\"대기 시간 통계 : {wait_time_str}\\n\"\n",
    "        # 예약 필요 여부\n",
    "        if 'use_how' in d.metadata:\n",
    "            use_how_str = d.metadata['use_how'].replace('{', '').replace('}', '').replace('\"', '')\n",
    "            candidates_str += f\"예약 필요 여부 통계 : {use_how_str}\\n\"\n",
    "        # 메뉴\n",
    "        if 'menu' in d.metadata:\n",
    "            candidates_str += f\"메뉴 : {d.metadata['menu'][:100]}\\n\"\n",
    "\n",
    "        candidates_str += '\\n'\n",
    "    return candidates_str"
   ]
  },
  {
   "cell_type": "code",
   "execution_count": 34,
   "id": "af0f19c2-bc81-437b-b093-0ab0991d9f84",
   "metadata": {},
   "outputs": [],
   "source": [
    "intent = state['intent']\n",
    "query_embedding = embedding_model.embed_query(intent)"
   ]
  },
  {
   "cell_type": "code",
   "execution_count": 36,
   "id": "498db513-af8f-4e61-b568-7b613dec93ea",
   "metadata": {},
   "outputs": [
    {
     "name": "stdout",
     "output_type": "stream",
     "text": [
      "가게명 : 오라장어\n",
      "pk : 5525\n",
      "리뷰 : \n",
      "1. 부모님 모시고 식사하기 좋아요. 장어도 튼실하고 맛이 좋네요~\n",
      "2. 반찬도 다양하고 장어구이도 맛있어요 ! 부모님 모시고 왔는데 친절하시고 다음에도 방문하고 싶네요 ㅎㅎ !!💛\n",
      "평점 : google 3.5(2명)\n",
      "주소 : 제주 제주시 오라일동 1076번지 1층\n",
      "음식 유형 : 가정식\n",
      "방문 목적 top 3 : 가족모임, 친목, 일상\n",
      "대기 시간 통계 : 30분 이내:2,10분 이내:2,바로 입장:92\n",
      "예약 필요 여부 통계 : 예약 없이 이용:73,예약 후 이용:20\n",
      "메뉴 : 골라먹는 특대사이즈 민물장어(100g:8800, (포장)숯불초벌 특대사이즈 민물장어:55000, (진공포장)특대사이즈 생물민물장어:55000, 골라먹는 갈비살(100g):8800,\n",
      "\n",
      "가게명 : 우미관\n",
      "pk : 5894\n",
      "리뷰 : \n",
      "1. 부모님 모시고 갔는데 너무 만족스러운 식사였습니다! 이전하고 처음갔는데 내부 공간도 주차장도 훨씬 쾌적했어요 😆 깔끔하고 정갈하고 든든한 한끼식사로 강추합니다!\n",
      "2. 한상차림으로 깔끔하게 먹기 좋았어요^^\n",
      "저는 장어덮밥먹고 부모님은 장어구이 드셨는데\n",
      "장어구이는 좀 더 바삭하게 구웠으면 좋다 하셨어요\n",
      "덮밥은 맛있었습니다!!\n",
      "평점 : naver 4.55(224명)\n",
      "주소 : 제주 제주시 이도이동 1188-20번지 2층\n",
      "음식 유형 : 가정식\n",
      "방문 목적 top 3 : 가족모임, 데이트, 친목\n",
      "대기 시간 통계 : 10분 이내:1,바로 입장:81\n",
      "예약 필요 여부 통계 : 예약 없이 이용:17,포장·배달 이용:4,예약 후 이용:62\n",
      "메뉴 : 장어정식(1인):39000, 장어덮밥(특 250g):36000, 장어덮밥(소 180g):29000, 장어구이(추가/포장):34000\n",
      "\n",
      "가게명 : 온평바다한그릇\n",
      "pk : 5663\n",
      "리뷰 : \n",
      "1. 부모님 모시고 맛있게 잘 먹고 갑니다.\n",
      "해산물도 신선하고 잘먹었습니다❤️\n",
      "2. 서버 분들꼐서 너무 친절하게 대해주셨네요~ 젊으신 분들 보기가 좋았습니다~^^ 해산물 모둠 하나 시켰는데 너무 신선한 것들로 준비되어 있어서 맛있게 먹었네요~\n",
      "평점 : google 4.1(377명)\n",
      "주소 : 제주 서귀포시 성산읍 온평리 1192-1번지 성산읍\n",
      "음식 유형 : 가정식\n",
      "방문 목적 top 3 : 여행, 데이트, 가족모임\n",
      "대기 시간 통계 : 1시간 이상:1,30분 이내:5,10분 이내:12,바로 입장:77\n",
      "예약 필요 여부 통계 : 예약 없이 이용:90,포장·배달 이용:3,예약 후 이용:2\n",
      "메뉴 : 고등어회+해산물모듬소+전복문어해물라면:87000, 전복구이:30000, 딱새우찜:30000, 문어숙회:30000, 한치(회,먹통찜):40000, 한치물회(활어):16000, 해산물\n",
      "\n",
      "가게명 : 선흘곶\n",
      "pk : 4167\n",
      "리뷰 : \n",
      "1. 지인과 함께 <동백동산습지> 걷기를 마치고\n",
      "수련이 이쁘다는 <반못>에 들럿다가 연꽃가득한\n",
      "돌다리를 건너다 우연히 만난 식당입니다~😄😄\n",
      "꼭꼭 숨어 있는 듯 보였는데 어떻게 아시고들\n",
      "2. 부모님 모시고 가기 좋은 한정식 맛집!!\n",
      "사장님 몹시 친절하심!!\n",
      "평점 : naver 4.5(556명), kakao 4.0(141명), google 4.2(5명)\n",
      "주소 : 제주 제주시 조천읍 선흘리 산 22번지 1층\n",
      "음식 유형 : 가정식\n",
      "방문 목적 top 3 : 여행, 나들이, 친목\n",
      "대기 시간 통계 : 1시간 이상:1,30분 이내:4,10분 이내:6,바로 입장:33\n",
      "예약 필요 여부 통계 : 예약 없이 이용:43\n",
      "메뉴 : 쌈밥정식:17000, 돼지고기 추가:10000, 고등어 추가:8000\n",
      "\n",
      "가게명 : 뜨레솥밥\n",
      "pk : 2119\n",
      "리뷰 : \n",
      "1. 음식이 정갈하게 나와요~~ 부모님과 함께 했는데 모두 만족스러운 식사였습니다 ^^\n",
      "2. 친절하신데 고기반찬잇으면 좋겟어요..\n",
      "평점 : naver 4.39(64명), kakao 4.0(55명), google 4.3(16명)\n",
      "주소 : 제주 제주시 애월읍 고성리 920-20번지 1층\n",
      "음식 유형 : 가정식\n",
      "방문 목적 top 3 : 일상, 여행, 나들이\n",
      "대기 시간 통계 : 바로 입장:7\n",
      "예약 필요 여부 통계 : 예약 없이 이용:8\n",
      "메뉴 : 한우국밥:11000, 명란순두부:10000, 불고기비빔밥:10000, 한우불고기 150g:15000, 생삼겹살 200g:17000, 한우로스구이 150g:20000\n",
      "\n",
      "\n"
     ]
    }
   ],
   "source": [
    "get_candidate_str(review_retrieval[:lack_num], query_embedding, graphdb_driver, review_k=2)"
   ]
  },
  {
   "cell_type": "code",
   "execution_count": null,
   "id": "4f3bd4ca-39d3-4a8a-b345-28d6c5ccd3a9",
   "metadata": {},
   "outputs": [],
   "source": []
  },
  {
   "cell_type": "code",
   "execution_count": null,
   "id": "4ee5cb2c-9ab9-4eb3-8b1b-4f737f3ad4be",
   "metadata": {},
   "outputs": [],
   "source": [
    "len(candidates_1st)"
   ]
  }
 ],
 "metadata": {
  "kernelspec": {
   "display_name": "bigcontest2024",
   "language": "python",
   "name": "bigcontest2024"
  },
  "language_info": {
   "codemirror_mode": {
    "name": "ipython",
    "version": 3
   },
   "file_extension": ".py",
   "mimetype": "text/x-python",
   "name": "python",
   "nbconvert_exporter": "python",
   "pygments_lexer": "ipython3",
   "version": "3.10.15"
  }
 },
 "nbformat": 4,
 "nbformat_minor": 5
}
