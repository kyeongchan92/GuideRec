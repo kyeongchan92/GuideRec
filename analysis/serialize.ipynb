{
 "cells": [
  {
   "cell_type": "code",
   "execution_count": 1,
   "id": "2d420181-4f50-4533-bfac-fc7ba4a5647e",
   "metadata": {},
   "outputs": [],
   "source": [
    "import os"
   ]
  },
  {
   "cell_type": "code",
   "execution_count": 2,
   "id": "582fcfaa-e345-466d-b226-61c6f0f0d7ce",
   "metadata": {},
   "outputs": [
    {
     "data": {
      "text/plain": [
       "'/Users/kyeongchanlee/projects/bigcontest2024/analysis'"
      ]
     },
     "execution_count": 2,
     "metadata": {},
     "output_type": "execute_result"
    }
   ],
   "source": [
    "os.getcwd()"
   ]
  },
  {
   "cell_type": "code",
   "execution_count": 2,
   "id": "4ad34262-b6a2-4961-9132-4c238a3a82ab",
   "metadata": {},
   "outputs": [],
   "source": [
    "os.chdir('../')"
   ]
  },
  {
   "cell_type": "code",
   "execution_count": 3,
   "id": "60f152db-8aba-41fa-953d-76c3d1a4c293",
   "metadata": {},
   "outputs": [
    {
     "data": {
      "text/plain": [
       "'/Users/kyeongchanlee/projects/bigcontest2024'"
      ]
     },
     "execution_count": 3,
     "metadata": {},
     "output_type": "execute_result"
    }
   ],
   "source": [
    "os.getcwd()"
   ]
  },
  {
   "cell_type": "code",
   "execution_count": 4,
   "id": "81f20b4a-f123-4bd3-88d9-60d653efc503",
   "metadata": {},
   "outputs": [
    {
     "name": "stderr",
     "output_type": "stream",
     "text": [
      "/Users/kyeongchanlee/.pyenv/versions/bigcontest2024/lib/python3.10/site-packages/sentence_transformers/cross_encoder/CrossEncoder.py:13: TqdmExperimentalWarning: Using `tqdm.autonotebook.tqdm` in notebook mode. Use `tqdm.tqdm` instead to force console mode (e.g. in jupyter console)\n",
      "  from tqdm.autonotebook import tqdm, trange\n"
     ]
    }
   ],
   "source": [
    "from graphrag.get_embedding_model import get_embedding_model\n",
    "from graphrag.graph_search import retrieve_top_k_stores_by_review_graph_embedding, process_review_node\n",
    "from llm_response.langgraph_graph_state import GraphState\n",
    "import streamlit as st\n",
    "import re\n",
    "\n",
    "from prompt.text_to_cypher_for_recomm import EXAMPLES_COMBINED, NEO4J_SCHEMA_RECOMM, TEXT_TO_CYPHER_FOR_RECOMM_TEMPLATE\n",
    "from utils import get_candidate_str\n",
    "from concurrent.futures import ThreadPoolExecutor, as_completed\n",
    "import time"
   ]
  },
  {
   "cell_type": "code",
   "execution_count": 5,
   "id": "783c0754-e903-473b-8027-167462919b62",
   "metadata": {},
   "outputs": [],
   "source": [
    "from graphrag.retriever import get_neo4j_vector\n",
    "from config import CONFIG\n",
    "store_retriever_rev_emb = get_neo4j_vector().as_retriever(search_kwargs={\"k\": CONFIG.store_retriever_rev_emb_k})\n",
    "\n",
    "from llm_response.get_llm_model import get_llm_model\n",
    "from utils import graphdb_driver\n",
    "\n",
    "# 마크다운에서 HTML로 변환하는 함수\n",
    "def convert_markdown_to_html(text):\n",
    "    # **bold** -> <b>bold</b>\n",
    "    text = re.sub(r'\\*\\*(.*?)\\*\\*', r'<b>\\1</b>', text)\n",
    "    return text\n",
    "\n",
    "def text_to_cypher_for_recomm(llm, state:GraphState):\n",
    "    print(f\"Text2Cypher for RECOMM\".ljust(100, '-'))\n",
    "    response = llm.invoke(\n",
    "        TEXT_TO_CYPHER_FOR_RECOMM_TEMPLATE.format(\n",
    "            NEO4J_SCHEMA_RECOMM=NEO4J_SCHEMA_RECOMM,\n",
    "            EXAMPLES_COMBINED=EXAMPLES_COMBINED, \n",
    "            query=state['query']\n",
    "            )\n",
    "    )\n",
    "    cypher = response.content.replace('```', '').replace('cypher', '').strip()\n",
    "    print(f\"cypher : \\n{cypher}\\n\")\n",
    "    state['t2c_for_recomm'] = cypher\n",
    "    print(f\"# input_tokens count : {response.usage_metadata['input_tokens']}\")\n",
    "    return state"
   ]
  },
  {
   "cell_type": "code",
   "execution_count": 7,
   "id": "c2ea4801-73be-4295-9bef-bf192151356e",
   "metadata": {},
   "outputs": [],
   "source": [
    "llm = get_llm_model()"
   ]
  },
  {
   "cell_type": "code",
   "execution_count": 8,
   "id": "4856cf81-2333-419c-9b76-747bba1c6fdc",
   "metadata": {},
   "outputs": [],
   "source": [
    "state = {}\n",
    "state['query'] = '바다 보이는 횟집 추천해줘. 제주 신화월드 근처에 부모님 모시고 가기 좋은 집 추천해줘'\n",
    "# state['intent'] = '60대 부부가 함께 여유롭게 대화를 나누며 편안하게 흑돼지를 즐길 수 있는, 신선한 재료와 아늑하고 조용한 분위기를 갖춘 맛집'"
   ]
  },
  {
   "cell_type": "code",
   "execution_count": 9,
   "id": "3f8fdb60-1e9b-4b88-9ef0-473c2dafc8a4",
   "metadata": {},
   "outputs": [],
   "source": [
    "from llm_response.langgraph_nodes.routing.route_and_intent_analysis import route_and_intent_analysis"
   ]
  },
  {
   "cell_type": "code",
   "execution_count": 37,
   "id": "e83a1f6e-fc64-40ee-a829-b732d2e6b214",
   "metadata": {},
   "outputs": [],
   "source": [
    "from langchain_community.vectorstores.neo4j_vector import Neo4jVector\n",
    "from graphrag.get_embedding_model import get_embedding_model"
   ]
  },
  {
   "cell_type": "code",
   "execution_count": 10,
   "id": "8b446e09-ff58-4990-8411-f7d2733f325f",
   "metadata": {},
   "outputs": [
    {
     "name": "stderr",
     "output_type": "stream",
     "text": [
      "2024-11-11 15:25:15.039 WARNING streamlit.runtime.scriptrunner_utils.script_run_context: Thread 'MainThread': missing ScriptRunContext! This warning can be ignored when running in bare mode.\n"
     ]
    },
    {
     "name": "stdout",
     "output_type": "stream",
     "text": [
      "Routing and intent analysis-------------------------------------------------------------------------\n",
      "query : 바다 보이는 횟집 추천해줘. 제주 신화월드 근처에 부모님 모시고 가기 좋은 집 추천해줘\n"
     ]
    },
    {
     "name": "stderr",
     "output_type": "stream",
     "text": [
      "2024-11-11 15:25:15.274 \n",
      "  \u001b[33m\u001b[1mWarning:\u001b[0m to view this Streamlit app on a browser, run it with the following\n",
      "  command:\n",
      "\n",
      "    streamlit run /Users/kyeongchanlee/.pyenv/versions/bigcontest2024/lib/python3.10/site-packages/ipykernel_launcher.py [ARGUMENTS]\n",
      "2024-11-11 15:25:15.275 Thread 'MainThread': missing ScriptRunContext! This warning can be ignored when running in bare mode.\n",
      "2024-11-11 15:25:15.275 Thread 'MainThread': missing ScriptRunContext! This warning can be ignored when running in bare mode.\n",
      "2024-11-11 15:25:15.275 Thread 'MainThread': missing ScriptRunContext! This warning can be ignored when running in bare mode.\n",
      "2024-11-11 15:25:16.822 Thread 'MainThread': missing ScriptRunContext! This warning can be ignored when running in bare mode.\n",
      "2024-11-11 15:25:16.824 Thread 'MainThread': missing ScriptRunContext! This warning can be ignored when running in bare mode.\n"
     ]
    },
    {
     "name": "stdout",
     "output_type": "stream",
     "text": [
      "\n",
      "```json\n",
      "{\n",
      "    'query_type': 'recomm',\n",
      "    'comment': '😄 이 질문은 추천형 질문으로 분석되었어요.',\n",
      "    'intent': '부모님과 함께 바다를 보며 즐거운 식사를 할 수 있는, 깔끔하고 쾌적한 분위기의 횟집으로, 신선한 해산물과 다양한 메뉴를 제공하며 가격이 적당한 곳'\n",
      "}\n",
      "```\n",
      "# input_tokens count : 2222\n"
     ]
    }
   ],
   "source": [
    "state = route_and_intent_analysis(llm, state)"
   ]
  },
  {
   "cell_type": "code",
   "execution_count": 11,
   "id": "4263a52f-4549-4cbb-86d7-05b86cee4347",
   "metadata": {},
   "outputs": [
    {
     "data": {
      "text/plain": [
       "{'query': '바다 보이는 횟집 추천해줘. 제주 신화월드 근처에 부모님 모시고 가기 좋은 집 추천해줘',\n",
       " 'query_type': 'recomm',\n",
       " 'intent': '부모님과 함께 바다를 보며 즐거운 식사를 할 수 있는, 깔끔하고 쾌적한 분위기의 횟집으로, 신선한 해산물과 다양한 메뉴를 제공하며 가격이 적당한 곳'}"
      ]
     },
     "execution_count": 11,
     "metadata": {},
     "output_type": "execute_result"
    }
   ],
   "source": [
    "state"
   ]
  },
  {
   "cell_type": "code",
   "execution_count": 12,
   "id": "b8262aeb-65d4-4d62-b6be-a20063a4fc0a",
   "metadata": {},
   "outputs": [
    {
     "name": "stdout",
     "output_type": "stream",
     "text": [
      "Text2Cypher for RECOMM------------------------------------------------------------------------------\n",
      "cypher : \n",
      "MATCH (a:ATTR)\n",
      "WHERE a.AREA_NM CONTAINS \"신화\" AND a.AREA_NM CONTAINS \"월드\"\n",
      "WITH a.latitude AS swLat, a.longitude AS swLon\n",
      "MATCH (rg:Region)-[:HAS_STORE]->(c:STORE)-[:HAS_VISIT_KEYWORD]->(v:Visit_with)\n",
      "WHERE c.MCT_TYPE = '일식' AND v.keyword CONTAINS \"부모님\"\n",
      "WITH c, swLat, swLon, c.latitude AS storeLat, c.longitude AS storeLon\n",
      "RETURN c.pk AS pk, c.MCT_NM AS RestaurantName, c.ADDR AS Address, c.menu AS Menu, \n",
      "       point.distance(point({latitude: swLat, longitude: swLon}), point({latitude: storeLat, longitude: storeLon})) AS Distance_in_meters_from_Jeju_Shinhwa_World\n",
      "ORDER BY Distance_in_meters_from_Jeju_Shinhwa_World ASC\n",
      "LIMIT 500\n",
      "\n",
      "# input_tokens count : 3535\n"
     ]
    }
   ],
   "source": [
    "state = text_to_cypher_for_recomm(llm, state)"
   ]
  },
  {
   "cell_type": "code",
   "execution_count": 13,
   "id": "1fae95fb-07a6-465e-960d-2c77f626aefb",
   "metadata": {},
   "outputs": [
    {
     "data": {
      "text/plain": [
       "{'query': '바다 보이는 횟집 추천해줘. 제주 신화월드 근처에 부모님 모시고 가기 좋은 집 추천해줘',\n",
       " 'query_type': 'recomm',\n",
       " 'intent': '부모님과 함께 바다를 보며 즐거운 식사를 할 수 있는, 깔끔하고 쾌적한 분위기의 횟집으로, 신선한 해산물과 다양한 메뉴를 제공하며 가격이 적당한 곳',\n",
       " 't2c_for_recomm': 'MATCH (a:ATTR)\\nWHERE a.AREA_NM CONTAINS \"신화\" AND a.AREA_NM CONTAINS \"월드\"\\nWITH a.latitude AS swLat, a.longitude AS swLon\\nMATCH (rg:Region)-[:HAS_STORE]->(c:STORE)-[:HAS_VISIT_KEYWORD]->(v:Visit_with)\\nWHERE c.MCT_TYPE = \\'일식\\' AND v.keyword CONTAINS \"부모님\"\\nWITH c, swLat, swLon, c.latitude AS storeLat, c.longitude AS storeLon\\nRETURN c.pk AS pk, c.MCT_NM AS RestaurantName, c.ADDR AS Address, c.menu AS Menu, \\n       point.distance(point({latitude: swLat, longitude: swLon}), point({latitude: storeLat, longitude: storeLon})) AS Distance_in_meters_from_Jeju_Shinhwa_World\\nORDER BY Distance_in_meters_from_Jeju_Shinhwa_World ASC\\nLIMIT 500'}"
      ]
     },
     "execution_count": 13,
     "metadata": {},
     "output_type": "execute_result"
    }
   ],
   "source": [
    "state"
   ]
  },
  {
   "cell_type": "code",
   "execution_count": 14,
   "id": "c4476b65-c768-4df9-9577-4953a92681d8",
   "metadata": {},
   "outputs": [],
   "source": [
    "records, summary, keys = graphdb_driver.execute_query(state['t2c_for_recomm'])"
   ]
  },
  {
   "cell_type": "code",
   "execution_count": 15,
   "id": "229101c0-c934-4be9-8049-3a1985b36ceb",
   "metadata": {},
   "outputs": [
    {
     "name": "stdout",
     "output_type": "stream",
     "text": [
      "MATCH (a:ATTR)\n",
      "WHERE a.AREA_NM CONTAINS \"신화\" AND a.AREA_NM CONTAINS \"월드\"\n",
      "WITH a.latitude AS swLat, a.longitude AS swLon\n",
      "MATCH (rg:Region)-[:HAS_STORE]->(c:STORE)-[:HAS_VISIT_KEYWORD]->(v:Visit_with)\n",
      "WHERE c.MCT_TYPE = '일식' AND v.keyword CONTAINS \"부모님\"\n",
      "WITH c, swLat, swLon, c.latitude AS storeLat, c.longitude AS storeLon\n",
      "RETURN c.pk AS pk, c.MCT_NM AS RestaurantName, c.ADDR AS Address, c.menu AS Menu, \n",
      "       point.distance(point({latitude: swLat, longitude: swLon}), point({latitude: storeLat, longitude: storeLon})) AS Distance_in_meters_from_Jeju_Shinhwa_World\n",
      "ORDER BY Distance_in_meters_from_Jeju_Shinhwa_World ASC\n",
      "LIMIT 500\n"
     ]
    }
   ],
   "source": [
    "print(state['t2c_for_recomm'])"
   ]
  },
  {
   "cell_type": "code",
   "execution_count": 17,
   "id": "88dfe3b7-a9b5-4b8c-80d2-6ed82b545b82",
   "metadata": {},
   "outputs": [
    {
     "data": {
      "text/plain": [
       "73"
      ]
     },
     "execution_count": 17,
     "metadata": {},
     "output_type": "execute_result"
    }
   ],
   "source": [
    "len(records)"
   ]
  },
  {
   "cell_type": "code",
   "execution_count": 159,
   "id": "68c53a4d-d71e-48d4-a773-e0aa710611a8",
   "metadata": {},
   "outputs": [],
   "source": [
    "def retrieve_top_similar_stores_pk(store_pk, query_embedding):\n",
    "    \"\"\"\n",
    "    특정 STORE 노드에 연결된 리뷰 중 각 STORE별 유사도가 가장 높은 리뷰를 반환합니다.\n",
    "    \"\"\"\n",
    "    query = \"\"\"\n",
    "    MATCH (s:STORE)-[:HAS_REVIEW]->(r:Review)\n",
    "    WHERE r.textEmbedding IS NOT NULL\n",
    "        AND s.pk IN $store_pk\n",
    "    WITH s.pk AS pk, r.text AS text, \n",
    "         gds.similarity.cosine(r.textEmbedding, $query_embedding) AS similarity\n",
    "    ORDER BY similarity DESC\n",
    "    WITH pk, collect({text: text, similarity: similarity})[0] AS top_review\n",
    "    RETURN pk,\n",
    "           top_review.similarity AS similarity\n",
    "    LIMIT 6\n",
    "    \"\"\"\n",
    "    with driver.session() as session:\n",
    "        start_time = time.time()\n",
    "        result = session.run(query, store_pk=store_pk, query_embedding=query_embedding)\n",
    "        end_time = time.time()\n",
    "        print(f\"Query Execution Time for stores {len(store_pk)}: {end_time - start_time:.4f} seconds\")\n",
    "        return [\n",
    "            {\n",
    "                \"pk\": record[\"pk\"],\n",
    "                \"similarity\": record[\"similarity\"]\n",
    "            } for record in result\n",
    "        ]\n"
   ]
  },
  {
   "cell_type": "code",
   "execution_count": 160,
   "id": "76f735a5-c4f8-4f08-9cf6-385ddcf5bfa8",
   "metadata": {},
   "outputs": [
    {
     "name": "stdout",
     "output_type": "stream",
     "text": [
      "Query Execution Time for stores 73: 0.0438 seconds\n"
     ]
    }
   ],
   "source": [
    "top_sim_stores = retrieve_top_similar_stores_pk(store_pk=[r['pk'] for r in records], query_embedding=query_embedding)"
   ]
  },
  {
   "cell_type": "code",
   "execution_count": 169,
   "id": "737f04b1-6134-477c-b163-1b648ae9d1be",
   "metadata": {},
   "outputs": [
    {
     "data": {
      "text/plain": [
       "[{'pk': 6380, 'similarity': 0.8109827854829943},\n",
       " {'pk': 6263, 'similarity': 0.7879735429710301},\n",
       " {'pk': 8156, 'similarity': 0.7820395688080898},\n",
       " {'pk': 5031, 'similarity': 0.7751468554055075},\n",
       " {'pk': 3990, 'similarity': 0.7677706777407783},\n",
       " {'pk': 785, 'similarity': 0.767398829003102}]"
      ]
     },
     "execution_count": 169,
     "metadata": {},
     "output_type": "execute_result"
    }
   ],
   "source": [
    "top_sim_stores"
   ]
  },
  {
   "cell_type": "code",
   "execution_count": 161,
   "id": "27a68528-69ae-40fc-b7ba-4e86f52e8df6",
   "metadata": {},
   "outputs": [],
   "source": [
    "top_sim_pks = [ts['pk'] for ts in top_sim_stores]"
   ]
  },
  {
   "cell_type": "code",
   "execution_count": 162,
   "id": "8a265b07-811b-48e3-b3e1-b61f2074cf18",
   "metadata": {},
   "outputs": [
    {
     "data": {
      "text/plain": [
       "[6380, 6263, 8156, 5031, 3990, 785]"
      ]
     },
     "execution_count": 162,
     "metadata": {},
     "output_type": "execute_result"
    }
   ],
   "source": [
    "top_sim_pks"
   ]
  },
  {
   "cell_type": "code",
   "execution_count": 166,
   "id": "cdb289ac-c114-43bf-94f8-935171429003",
   "metadata": {},
   "outputs": [
    {
     "data": {
      "text/plain": [
       "4971"
      ]
     },
     "execution_count": 166,
     "metadata": {},
     "output_type": "execute_result"
    }
   ],
   "source": [
    "records[0]['pk']"
   ]
  },
  {
   "cell_type": "code",
   "execution_count": 170,
   "id": "584e72e1-4d94-45ac-8849-3688133b0744",
   "metadata": {},
   "outputs": [],
   "source": [
    "candidates_2nd= [r for r in records if r['pk'] in top_sim_pks]"
   ]
  },
  {
   "cell_type": "code",
   "execution_count": 172,
   "id": "e3923743-39b0-478d-88f7-f85dd7558fe3",
   "metadata": {},
   "outputs": [],
   "source": [
    "def retrieve_top_k_reviews(store_pk, query_embedding, driver, k=3):\n",
    "    \"\"\"\n",
    "    특정 STORE 노드에 연결된 리뷰 중 유사한 TOP-K 리뷰를 반환합니다.\n",
    "    \"\"\"\n",
    "    query = \"\"\"\n",
    "    MATCH (s:STORE {pk: $store_pk})-[:HAS_REVIEW]->(r:Review)\n",
    "    WHERE r.textEmbedding IS NOT NULL\n",
    "    RETURN r.text AS text, gds.similarity.cosine(r.textEmbedding, $query_embedding) AS similarity\n",
    "    ORDER BY similarity DESC\n",
    "    LIMIT $k\n",
    "    \"\"\"\n",
    "    with driver.session() as session:\n",
    "        result = session.run(\n",
    "            query, store_pk=store_pk, query_embedding=query_embedding, k=k\n",
    "        )\n",
    "        return [\n",
    "            {\"text\": record[\"text\"], \"similarity\": record[\"similarity\"]}\n",
    "            for record in result\n",
    "        ]"
   ]
  },
  {
   "cell_type": "code",
   "execution_count": 188,
   "id": "5a7717c6-d5aa-480b-a8ba-21d21fea66c6",
   "metadata": {},
   "outputs": [],
   "source": [
    "cypher_result_str = ''\n",
    "for r in candidates_2nd:\n",
    "    r_keys = r.keys()\n",
    "    one_record_str = ''\n",
    "    for key in r_keys:\n",
    "        one_record_str += f\"{key} : {str(r[key])[:100]}\\n\"\n",
    "        if key == 'pk':\n",
    "            reviews = retrieve_top_k_reviews(r[key], query_embedding, graphdb_driver, k=2)\n",
    "            if reviews:\n",
    "                reviews_lst = [f\"{ri}. {review['text'][:100]}\".strip() for ri, review in enumerate(reviews, start=1)]\n",
    "                one_record_str += \"리뷰 : \\n\" + '\\n'.join(reviews_lst) + \"\\n\"\n",
    "    if '리뷰' in one_record_str:\n",
    "        t2c_candidates_cnt += 1\n",
    "        cypher_result_str += one_record_str + '\\n'"
   ]
  },
  {
   "cell_type": "code",
   "execution_count": 189,
   "id": "2669742a-68fa-4d9b-b5ad-89cdde621e50",
   "metadata": {},
   "outputs": [
    {
     "name": "stdout",
     "output_type": "stream",
     "text": [
      "pk : 3990\n",
      "리뷰 : \n",
      "1. 부모님 모시고 가기 딱 좋은곳!!\n",
      "유튜브로 처음 알게되어 가야지 가야지하다가 예약하고갔습니다.\n",
      "테이블 공간이 넓어서 소란스럽다고 생각이안들고, 특히 음식이 맛있었습니다. 회가 쫄깃\n",
      "2. 너무 깔끔하고 정갈하게 나와서 맛있게 먹었어요. 횟집 가면 여러명이서 다양한 메뉴 시켜먹기에 부담이 있는데 (특히 해물류) 여기는 코스식으로 이것저것 맛볼 수 있어서 진짜 좋았어요\n",
      "RestaurantName : 색달바당\n",
      "Address : 제주 서귀포시 색달동 1898-1번지 1층\n",
      "Menu : 바당 2인 코스:120000, 바당 3인 코스:150000, 바당 4인 코스:200000, 바당 5인 코스:250000, 바당 6인 코스:300000, 제주 돌돔:300000, 제\n",
      "Distance_in_meters_from_Jeju_Shinhwa_World : 10179.789540271771\n",
      "\n",
      "pk : 8156\n",
      "리뷰 : \n",
      "1. 물놀이 후, 횟집왔는데 너무 맛있게 잘 먹었어요! 좋은사람들과 좋은 회 먹으면서 좋은시간 보냈어요^^\n",
      "2. 부모님 모시고 대포항 갔다가 따로 찾아보진 않고 회정식 먹으러 갔어요. 바다 바로 앞이라 뷰도 좋고 깔끔했어요. 가격대는 조금 있지만 풍경값과 회정식값 했네요 잘 먹었습니다^^\n",
      "RestaurantName : 큰갯물횟집\n",
      "Address : 제주 서귀포시 대포동 2070번지\n",
      "Menu : 🐟자연산활어류:0, 🐠통갈치구이:80000, 🐟한치회,고등어회,갈치회 각:50000, 🦞매운탕:20000, 갈치조림:60000, 제철회 히라스 , 방어회:0, 갓돔:0, 다금바리:\n",
      "Distance_in_meters_from_Jeju_Shinhwa_World : 13423.130278202529\n",
      "\n",
      "pk : 5031\n",
      "리뷰 : \n",
      "1. 부모님 모시고 갔는데, 매우 맛있게 드셨어요. 연어집에서 파스타와 안심카츠는 처음 먹어봤는데~ 우와~~~ 진짜 넘넘 맛있네요. 부모님께서 연돈 돈까스 드시고 오셨었는데, 이거 드시\n",
      "2. 연어집 답게 연어가 정말 맛있어요!!!\n",
      "연어 모듬세트 둘이서 배불러요 😇\n",
      "연어도 정말 길고 두툼하구\n",
      "잔잔한 노래가 나와서 먹으면서 분위기도 참 좋고 힐링되네요\n",
      "우동 메뉴가 있어서\n",
      "RestaurantName : 애월연어서귀포점\n",
      "Address : 제주 서귀포시 서홍동 364번지 101호\n",
      "Menu : 스노우초밥:18900, 화이트 크림 파스타:15500, 사케동:12900, 연어 샐러드:10900, 생연어 야채덮밥:10900, 흑돼지 덮밥:9900, 안심카츠:9900, 초밥 한\n",
      "Distance_in_meters_from_Jeju_Shinhwa_World : 23042.853140277643\n",
      "\n",
      "pk : 785\n",
      "리뷰 : \n",
      "1. 부모님을 모시고 방문했습니다. 어머니께서 그리 회를 즐겨 하지 않으셔서 모듬회 2인분만 주문했습니다. 회무침, 새우튀김, 간장게장, 해물죽, 생선국이, 해물탕 등이 모듬회와 함께\n",
      "2. 아들 딸 덕분에 오랜만에 넘 친절하고 맛있는 횟집 첨 봐요~~~\n",
      "RestaurantName : 금복촌\n",
      "Address : 제주 제주시 용담일동 2828-7번지\n",
      "Menu : 모듬 (광어,우럭,참돔) 대:180000, 갓돔:0, 대방어:0, 모듬 (광어,우럭,참돔) 중:160000, 모듬 (광어,우럭,참돔) 소:140000, 모듬 (광어,우럭,참돔) 2\n",
      "Distance_in_meters_from_Jeju_Shinhwa_World : 28465.292006816275\n",
      "\n",
      "pk : 6263\n",
      "리뷰 : \n",
      "1. 엄마 아빠가 너무 좋아하시는 곳👍 너무너무 맛있고 코스 요리 먹는 것처럼 푸짐해서 기분도 좋아요 ㅜㅠ 바다가 바로 보여서 바다 먹고 회 보는 느낌ㅎㅎ 재방문의사 1000%\n",
      "2. 여기 진짜 괜찮아요!!\n",
      "가성비 뛰어나고 음식도 맛나고 신선해요!!\n",
      "깔끔하고 하나하나 디테일이 있고\n",
      "딱새우전도 맛나고\n",
      "생선튀김도 너무 크고\n",
      "사진에 없는 새우튀김도 맛나고\n",
      "회는 말할\n",
      "RestaurantName : 이스방한상\n",
      "Address : 제주 제주시 용담이동 436번지 1층\n",
      "Menu : 시그니쳐:130000, 한상:160000, 작은상:90000\n",
      "Distance_in_meters_from_Jeju_Shinhwa_World : 29677.209109822314\n",
      "\n",
      "pk : 6380\n",
      "리뷰 : \n",
      "1. 부모님 모시고 갔는데 깔끔하고 맛난 밑반찬과 손수 구워주신 맛난 흑돼지  잘 먹었습니다\n",
      "저녁에 갔지만 낮에 가면 앞에 바다 전경도 좋을듯 하네요  이름나서 북적대는 유명세 치르는\n",
      "2. 아니ㅠㅠ 분위기부터 미쳤던데요,,,,,\n",
      "직원분들 너무 친절하시고 고기도 맛있어요!!!!!!!!\n",
      "이가격에 이양이면 가성비 엄청 혜자에요!!!\n",
      "엄마아빠가 너무 좋아하셔서 더맘에든곳❤️\n",
      "RestaurantName : 일돈성산흑돼지\n",
      "Address : 제주 서귀포시 성산읍 고성리 599-1번지\n",
      "Menu : 일돈숙성 2인세트(500g):58000, 봄베이 하이볼:8000, 주류/소주.맥주:5000, 막걸리:6000, 음료수:2000, 일돈숙성 3인세트(600g):68000, 일돈숙성 \n",
      "Distance_in_meters_from_Jeju_Shinhwa_World : 57339.999695857965\n",
      "\n",
      "\n"
     ]
    }
   ],
   "source": [
    "print(cypher_result_str)"
   ]
  },
  {
   "cell_type": "code",
   "execution_count": null,
   "id": "60bbd46b-e1a8-43e9-86e6-76420495645d",
   "metadata": {},
   "outputs": [],
   "source": []
  }
 ],
 "metadata": {
  "kernelspec": {
   "display_name": "bigcontest2024",
   "language": "python",
   "name": "bigcontest2024"
  },
  "language_info": {
   "codemirror_mode": {
    "name": "ipython",
    "version": 3
   },
   "file_extension": ".py",
   "mimetype": "text/x-python",
   "name": "python",
   "nbconvert_exporter": "python",
   "pygments_lexer": "ipython3",
   "version": "3.10.15"
  }
 },
 "nbformat": 4,
 "nbformat_minor": 5
}
