{
 "cells": [
  {
   "cell_type": "markdown",
   "metadata": {},
   "source": [
    "### 판다스 전처리"
   ]
  },
  {
   "cell_type": "code",
   "execution_count": 47,
   "metadata": {},
   "outputs": [],
   "source": [
    "import pandas as pd\n",
    "\n",
    "df = pd.read_csv(\"../data/JEJU_MCT_DATA_v2.csv\", encoding=\"cp949\")"
   ]
  },
  {
   "cell_type": "code",
   "execution_count": 51,
   "metadata": {},
   "outputs": [
    {
     "name": "stdout",
     "output_type": "stream",
     "text": [
      "'MON_UE_CNT_RAT' : 'mean', 'TUE_UE_CNT_RAT' : 'mean', 'WED_UE_CNT_RAT' : 'mean', 'THU_UE_CNT_RAT' : 'mean', 'FRI_UE_CNT_RAT' : 'mean', 'SAT_UE_CNT_RAT' : 'mean', 'SUN_UE_CNT_RAT' : 'mean', 'HR_5_11_UE_CNT_RAT' : 'mean', 'HR_12_13_UE_CNT_RAT' : 'mean', 'HR_14_17_UE_CNT_RAT' : 'mean', 'HR_18_22_UE_CNT_RAT' : 'mean', 'HR_23_4_UE_CNT_RAT' : 'mean', 'LOCAL_UE_CNT_RAT' : 'mean', 'RC_M12_MAL_CUS_CNT_RAT' : 'mean', 'RC_M12_FME_CUS_CNT_RAT' : 'mean', 'RC_M12_AGE_UND_20_CUS_CNT_RAT' : 'mean', 'RC_M12_AGE_30_CUS_CNT_RAT' : 'mean', 'RC_M12_AGE_40_CUS_CNT_RAT' : 'mean', 'RC_M12_AGE_50_CUS_CNT_RAT' : 'mean', 'RC_M12_AGE_OVR_60_CUS_CNT_RAT' : 'mean', "
     ]
    }
   ],
   "source": [
    "for i in df.columns[8:] :\n",
    "    print(f\"'{i}' : 'mean'\", end=', ')\n"
   ]
  },
  {
   "cell_type": "code",
   "execution_count": 52,
   "metadata": {},
   "outputs": [],
   "source": [
    "df['UE_CNT_GRP'] = df['UE_CNT_GRP'].apply(lambda x : x.split(\"_\")[1])\n",
    "df['UE_AMT_GRP'] = df['UE_AMT_GRP'].apply(lambda x : x.split(\"_\")[1])\n",
    "df['UE_AMT_PER_TRSN_GRP'] = df['UE_AMT_PER_TRSN_GRP'].apply(lambda x : x.split(\"_\")[1])"
   ]
  },
  {
   "cell_type": "code",
   "execution_count": 53,
   "metadata": {},
   "outputs": [],
   "source": [
    "df_pp_ave_last = df.groupby(['MCT_NM', 'OP_YMD']).agg({\n",
    "    'ADDR' : 'last', 'MCT_TYPE' : 'last',\n",
    "    'UE_CNT_GRP' : 'last', 'UE_AMT_GRP' : 'last', 'UE_AMT_PER_TRSN_GRP' : 'last',\n",
    "    'MON_UE_CNT_RAT' : 'mean', 'TUE_UE_CNT_RAT' : 'mean', 'WED_UE_CNT_RAT' : 'mean', 'THU_UE_CNT_RAT' : 'mean', 'FRI_UE_CNT_RAT' : 'mean', 'SAT_UE_CNT_RAT' : 'mean', 'SUN_UE_CNT_RAT' : 'mean', \n",
    "    'HR_5_11_UE_CNT_RAT' : 'mean', 'HR_12_13_UE_CNT_RAT' : 'mean', 'HR_14_17_UE_CNT_RAT' : 'mean', 'HR_18_22_UE_CNT_RAT' : 'mean', 'HR_23_4_UE_CNT_RAT' : 'mean', \n",
    "    'LOCAL_UE_CNT_RAT' : 'mean', 'RC_M12_MAL_CUS_CNT_RAT' : 'mean', 'RC_M12_FME_CUS_CNT_RAT' : 'mean', \n",
    "    'RC_M12_AGE_UND_20_CUS_CNT_RAT' : 'mean', 'RC_M12_AGE_30_CUS_CNT_RAT' : 'mean', 'RC_M12_AGE_40_CUS_CNT_RAT' : 'mean', 'RC_M12_AGE_50_CUS_CNT_RAT' : 'mean', 'RC_M12_AGE_OVR_60_CUS_CNT_RAT' : 'mean'}).reset_index()"
   ]
  },
  {
   "cell_type": "code",
   "execution_count": 54,
   "metadata": {},
   "outputs": [],
   "source": [
    "df_pp_ave_last = df_pp_ave_last.drop(['OP_YMD'], axis=1 )"
   ]
  },
  {
   "cell_type": "code",
   "execution_count": 55,
   "metadata": {},
   "outputs": [],
   "source": [
    "df_pp_ave_last = df_pp_ave_last.drop(df_pp_ave_last[df_pp_ave_last['ADDR'] == ' '].index, axis=0).reset_index(drop=True)"
   ]
  },
  {
   "cell_type": "code",
   "execution_count": 56,
   "metadata": {},
   "outputs": [],
   "source": [
    "df_pp_ave_last['CITY'] = df_pp_ave_last['ADDR'].apply(lambda x : x.split(' ')[1])\n",
    "df_pp_ave_last['REGION'] = df_pp_ave_last['ADDR'].apply(lambda x : x.split(' ')[2])\n",
    "\n",
    "df_pp_ave_last = df_pp_ave_last.drop(['ADDR'], axis=1 )"
   ]
  },
  {
   "cell_type": "code",
   "execution_count": 57,
   "metadata": {},
   "outputs": [],
   "source": [
    "df_pp_ave_last = df_pp_ave_last[['MCT_NM', 'MCT_TYPE', 'CITY', 'REGION', 'UE_CNT_GRP', 'UE_AMT_GRP', 'UE_AMT_PER_TRSN_GRP',\n",
    "       'MON_UE_CNT_RAT', 'TUE_UE_CNT_RAT', 'WED_UE_CNT_RAT', 'THU_UE_CNT_RAT',\n",
    "       'FRI_UE_CNT_RAT', 'SAT_UE_CNT_RAT', 'SUN_UE_CNT_RAT',\n",
    "       'HR_5_11_UE_CNT_RAT', 'HR_12_13_UE_CNT_RAT', 'HR_14_17_UE_CNT_RAT',\n",
    "       'HR_18_22_UE_CNT_RAT', 'HR_23_4_UE_CNT_RAT', 'LOCAL_UE_CNT_RAT',\n",
    "       'RC_M12_MAL_CUS_CNT_RAT', 'RC_M12_FME_CUS_CNT_RAT',\n",
    "       'RC_M12_AGE_UND_20_CUS_CNT_RAT', 'RC_M12_AGE_30_CUS_CNT_RAT',\n",
    "       'RC_M12_AGE_40_CUS_CNT_RAT', 'RC_M12_AGE_50_CUS_CNT_RAT',\n",
    "       'RC_M12_AGE_OVR_60_CUS_CNT_RAT']]"
   ]
  },
  {
   "cell_type": "code",
   "execution_count": 14,
   "metadata": {},
   "outputs": [
    {
     "data": {
      "text/html": [
       "<div>\n",
       "<style scoped>\n",
       "    .dataframe tbody tr th:only-of-type {\n",
       "        vertical-align: middle;\n",
       "    }\n",
       "\n",
       "    .dataframe tbody tr th {\n",
       "        vertical-align: top;\n",
       "    }\n",
       "\n",
       "    .dataframe thead th {\n",
       "        text-align: right;\n",
       "    }\n",
       "</style>\n",
       "<table border=\"1\" class=\"dataframe\">\n",
       "  <thead>\n",
       "    <tr style=\"text-align: right;\">\n",
       "      <th></th>\n",
       "      <th>MCT_NM</th>\n",
       "      <th>MCT_TYPE</th>\n",
       "      <th>CITY</th>\n",
       "      <th>REGION</th>\n",
       "      <th>UE_CNT_GRP</th>\n",
       "      <th>UE_AMT_GRP</th>\n",
       "      <th>UE_AMT_PER_TRSN_GRP</th>\n",
       "      <th>MON_UE_CNT_RAT</th>\n",
       "      <th>TUE_UE_CNT_RAT</th>\n",
       "      <th>WED_UE_CNT_RAT</th>\n",
       "      <th>...</th>\n",
       "      <th>HR_18_22_UE_CNT_RAT</th>\n",
       "      <th>HR_23_4_UE_CNT_RAT</th>\n",
       "      <th>LOCAL_UE_CNT_RAT</th>\n",
       "      <th>RC_M12_MAL_CUS_CNT_RAT</th>\n",
       "      <th>RC_M12_FME_CUS_CNT_RAT</th>\n",
       "      <th>RC_M12_AGE_UND_20_CUS_CNT_RAT</th>\n",
       "      <th>RC_M12_AGE_30_CUS_CNT_RAT</th>\n",
       "      <th>RC_M12_AGE_40_CUS_CNT_RAT</th>\n",
       "      <th>RC_M12_AGE_50_CUS_CNT_RAT</th>\n",
       "      <th>RC_M12_AGE_OVR_60_CUS_CNT_RAT</th>\n",
       "    </tr>\n",
       "  </thead>\n",
       "  <tbody>\n",
       "    <tr>\n",
       "      <th>0</th>\n",
       "      <td>(사)한국수상레저안전협회 제주제주시지부</td>\n",
       "      <td>분식</td>\n",
       "      <td>제주시</td>\n",
       "      <td>이호일동</td>\n",
       "      <td>90% 초과(하위 10% 이하)</td>\n",
       "      <td>90% 초과(하위 10% 이하)</td>\n",
       "      <td>상위 10% 이하</td>\n",
       "      <td>0.5</td>\n",
       "      <td>0.25</td>\n",
       "      <td>0.0</td>\n",
       "      <td>...</td>\n",
       "      <td>0.0</td>\n",
       "      <td>0.0</td>\n",
       "      <td>0.761905</td>\n",
       "      <td>0.801</td>\n",
       "      <td>0.199</td>\n",
       "      <td>0.0</td>\n",
       "      <td>0.2465</td>\n",
       "      <td>0.03575</td>\n",
       "      <td>0.362</td>\n",
       "      <td>0.35625</td>\n",
       "    </tr>\n",
       "  </tbody>\n",
       "</table>\n",
       "<p>1 rows × 27 columns</p>\n",
       "</div>"
      ],
      "text/plain": [
       "                  MCT_NM MCT_TYPE CITY REGION         UE_CNT_GRP  \\\n",
       "0  (사)한국수상레저안전협회 제주제주시지부       분식  제주시   이호일동  90% 초과(하위 10% 이하)   \n",
       "\n",
       "          UE_AMT_GRP UE_AMT_PER_TRSN_GRP  MON_UE_CNT_RAT  TUE_UE_CNT_RAT  \\\n",
       "0  90% 초과(하위 10% 이하)           상위 10% 이하             0.5            0.25   \n",
       "\n",
       "   WED_UE_CNT_RAT  ...  HR_18_22_UE_CNT_RAT  HR_23_4_UE_CNT_RAT  \\\n",
       "0             0.0  ...                  0.0                 0.0   \n",
       "\n",
       "   LOCAL_UE_CNT_RAT  RC_M12_MAL_CUS_CNT_RAT  RC_M12_FME_CUS_CNT_RAT  \\\n",
       "0          0.761905                   0.801                   0.199   \n",
       "\n",
       "   RC_M12_AGE_UND_20_CUS_CNT_RAT  RC_M12_AGE_30_CUS_CNT_RAT  \\\n",
       "0                            0.0                     0.2465   \n",
       "\n",
       "   RC_M12_AGE_40_CUS_CNT_RAT  RC_M12_AGE_50_CUS_CNT_RAT  \\\n",
       "0                    0.03575                      0.362   \n",
       "\n",
       "   RC_M12_AGE_OVR_60_CUS_CNT_RAT  \n",
       "0                        0.35625  \n",
       "\n",
       "[1 rows x 27 columns]"
      ]
     },
     "execution_count": 14,
     "metadata": {},
     "output_type": "execute_result"
    }
   ],
   "source": [
    "df_pp_ave_last.head(1)"
   ]
  },
  {
   "cell_type": "code",
   "execution_count": 205,
   "metadata": {},
   "outputs": [],
   "source": [
    "data = df_pp_ave_last.copy()"
   ]
  },
  {
   "cell_type": "code",
   "execution_count": 206,
   "metadata": {},
   "outputs": [],
   "source": [
    "data.to_csv(\"data_avg_last.csv\", index=False)"
   ]
  },
  {
   "cell_type": "markdown",
   "metadata": {},
   "source": [
    "## 프롬프트 만들기"
   ]
  },
  {
   "cell_type": "code",
   "execution_count": 21,
   "metadata": {},
   "outputs": [
    {
     "data": {
      "text/plain": [
       "'더벤티 제주대학교점'"
      ]
     },
     "execution_count": 21,
     "metadata": {},
     "output_type": "execute_result"
    }
   ],
   "source": [
    "# test\n",
    "# USER INPUT: '제주시 이호일동에 위치한 카페 중 이용건수구간이 상위 10% 이하에 속하는 곳은?'\n",
    "\n",
    "condition_CITY = data[\"CITY\"] == \"제주시\"\n",
    "condition_REGION = data[\"REGION\"] == \"이호일동\"\n",
    "condition_REGION = data[\"MCT_TYPE\"] == \"커피\"\n",
    "condition_UE_CNT_GRP = data[\"UE_CNT_GRP\"] == \"상위 10% 이하\"\n",
    "\n",
    "data[condition_CITY & condition_REGION & condition_UE_CNT_GRP].sort_values(by=\"MON_UE_CNT_RAT\", ascending=False).iloc[0][\"MCT_NM\"]\n"
   ]
  },
  {
   "cell_type": "code",
   "execution_count": 63,
   "metadata": {},
   "outputs": [],
   "source": [
    "import pandas as pd\n",
    "data = pd.read_csv(\"data_avg_last.csv\")"
   ]
  },
  {
   "cell_type": "code",
   "execution_count": 16,
   "metadata": {},
   "outputs": [
    {
     "data": {
      "text/html": [
       "<div>\n",
       "<style scoped>\n",
       "    .dataframe tbody tr th:only-of-type {\n",
       "        vertical-align: middle;\n",
       "    }\n",
       "\n",
       "    .dataframe tbody tr th {\n",
       "        vertical-align: top;\n",
       "    }\n",
       "\n",
       "    .dataframe thead th {\n",
       "        text-align: right;\n",
       "    }\n",
       "</style>\n",
       "<table border=\"1\" class=\"dataframe\">\n",
       "  <thead>\n",
       "    <tr style=\"text-align: right;\">\n",
       "      <th></th>\n",
       "      <th>MCT_NM</th>\n",
       "      <th>MCT_TYPE</th>\n",
       "      <th>CITY</th>\n",
       "      <th>REGION</th>\n",
       "      <th>UE_CNT_GRP</th>\n",
       "      <th>UE_AMT_GRP</th>\n",
       "      <th>UE_AMT_PER_TRSN_GRP</th>\n",
       "      <th>MON_UE_CNT_RAT</th>\n",
       "      <th>TUE_UE_CNT_RAT</th>\n",
       "      <th>WED_UE_CNT_RAT</th>\n",
       "      <th>...</th>\n",
       "      <th>HR_18_22_UE_CNT_RAT</th>\n",
       "      <th>HR_23_4_UE_CNT_RAT</th>\n",
       "      <th>LOCAL_UE_CNT_RAT</th>\n",
       "      <th>RC_M12_MAL_CUS_CNT_RAT</th>\n",
       "      <th>RC_M12_FME_CUS_CNT_RAT</th>\n",
       "      <th>RC_M12_AGE_UND_20_CUS_CNT_RAT</th>\n",
       "      <th>RC_M12_AGE_30_CUS_CNT_RAT</th>\n",
       "      <th>RC_M12_AGE_40_CUS_CNT_RAT</th>\n",
       "      <th>RC_M12_AGE_50_CUS_CNT_RAT</th>\n",
       "      <th>RC_M12_AGE_OVR_60_CUS_CNT_RAT</th>\n",
       "    </tr>\n",
       "  </thead>\n",
       "  <tbody>\n",
       "    <tr>\n",
       "      <th>0</th>\n",
       "      <td>(사)한국수상레저안전협회 제주제주시지부</td>\n",
       "      <td>분식</td>\n",
       "      <td>제주시</td>\n",
       "      <td>이호일동</td>\n",
       "      <td>90% 초과(하위 10% 이하)</td>\n",
       "      <td>90% 초과(하위 10% 이하)</td>\n",
       "      <td>상위 10% 이하</td>\n",
       "      <td>0.5</td>\n",
       "      <td>0.25</td>\n",
       "      <td>0.0</td>\n",
       "      <td>...</td>\n",
       "      <td>0.0</td>\n",
       "      <td>0.0</td>\n",
       "      <td>0.761905</td>\n",
       "      <td>0.801</td>\n",
       "      <td>0.199</td>\n",
       "      <td>0.0</td>\n",
       "      <td>0.2465</td>\n",
       "      <td>0.03575</td>\n",
       "      <td>0.362</td>\n",
       "      <td>0.35625</td>\n",
       "    </tr>\n",
       "  </tbody>\n",
       "</table>\n",
       "<p>1 rows × 27 columns</p>\n",
       "</div>"
      ],
      "text/plain": [
       "                  MCT_NM MCT_TYPE CITY REGION         UE_CNT_GRP  \\\n",
       "0  (사)한국수상레저안전협회 제주제주시지부       분식  제주시   이호일동  90% 초과(하위 10% 이하)   \n",
       "\n",
       "          UE_AMT_GRP UE_AMT_PER_TRSN_GRP  MON_UE_CNT_RAT  TUE_UE_CNT_RAT  \\\n",
       "0  90% 초과(하위 10% 이하)           상위 10% 이하             0.5            0.25   \n",
       "\n",
       "   WED_UE_CNT_RAT  ...  HR_18_22_UE_CNT_RAT  HR_23_4_UE_CNT_RAT  \\\n",
       "0             0.0  ...                  0.0                 0.0   \n",
       "\n",
       "   LOCAL_UE_CNT_RAT  RC_M12_MAL_CUS_CNT_RAT  RC_M12_FME_CUS_CNT_RAT  \\\n",
       "0          0.761905                   0.801                   0.199   \n",
       "\n",
       "   RC_M12_AGE_UND_20_CUS_CNT_RAT  RC_M12_AGE_30_CUS_CNT_RAT  \\\n",
       "0                            0.0                     0.2465   \n",
       "\n",
       "   RC_M12_AGE_40_CUS_CNT_RAT  RC_M12_AGE_50_CUS_CNT_RAT  \\\n",
       "0                    0.03575                      0.362   \n",
       "\n",
       "   RC_M12_AGE_OVR_60_CUS_CNT_RAT  \n",
       "0                        0.35625  \n",
       "\n",
       "[1 rows x 27 columns]"
      ]
     },
     "execution_count": 16,
     "metadata": {},
     "output_type": "execute_result"
    }
   ],
   "source": [
    "data.head(1)"
   ]
  },
  {
   "cell_type": "code",
   "execution_count": 4,
   "metadata": {},
   "outputs": [
    {
     "data": {
      "text/plain": [
       "True"
      ]
     },
     "execution_count": 4,
     "metadata": {},
     "output_type": "execute_result"
    }
   ],
   "source": [
    "from dotenv import load_dotenv\n",
    "\n",
    "# 환경변수를 불러옴\n",
    "load_dotenv()"
   ]
  },
  {
   "cell_type": "code",
   "execution_count": 103,
   "metadata": {},
   "outputs": [],
   "source": [
    "SCHEMA = \"\"\"\n",
    "Data Columns (total 26 columns):\n",
    "\n",
    "  # 기본정보\n",
    "  MCT_NM: STRING. 가맹점명. ex) \"토평골식당\", \n",
    "  MCT_TYPE: STRING. 요식관련 30개업종. values) '가정식', '단품요리 전문', '커피', '베이커리', '일식', '치킨', '중식', '분식', '햄버거', '양식', '맥주/요리주점', '아이스크림/빙수', '피자', '샌드위치/토스트', '차', '꼬치구이', '기타세계요리', '구내식당/푸드코트', '떡/한과', '도시락', '도너츠', '주스', '동남아/인도음식', '패밀리 레스토랑', '기사식당', '야식', '스테이크', '포장마차', '부페', '민속주점'  \n",
    "  CITY: STRING. 도시명. ex) \"서귀포시\", \"제주시\"\n",
    "  REGION: STRING. 지역명. ex) \"대포동\", \"서홍동\", \"대정읍\"\n",
    "  \n",
    "  # 이용건수 정보\n",
    "  UE_CNT_GRP: 이용건수구간. STRING. 월별 이용건수를 6개 구간으로 집계 시, 해당 가맹점의 이용건수가 포함되는 분위수 구간. values)'상위 10% 이하', '10~25%', '25~50%', '50~75%', '75~90%', '90% 초과(하위 10% 이하)'\n",
    "  UE_AMT_GRP: 이용금액구간. STRING. 월별 이용금액을 6개 구간으로 집계 시, 해당 가맹점의 이용금액이 포함되는 분위수 구간. values)'상위 10% 이하', '10~25%', '25~50%', '50~75%', '75~90%', '90% 초과(하위 10% 이하)'\n",
    "  UE_AMT_PER_TRSN_GRP: 건당 평균 이용금액 구간. STRING. 월별 건당 평균 이용금액을 6개 구간으로 집계 시, 해당 가맹점의 건당 평균 이용금액이 포함되는 분위수 구간. values)'상위 10% 이하', '10~25%', '25~50%', '50~75%', '75~90%', '90% 초과(하위 10% 이하)'\n",
    "  MON_UE_CNT_RAT: 월요일 이용건수 비중. FLOAT. ex) 0.1262\n",
    "  TUE_UE_CNT_RAT: 화요일 이용건수 비중. FLOAT. ex) 0.1262\n",
    "  WED_UE_CNT_RAT: 수요일 이용건수 비중. FLOAT. ex) 0.1941\n",
    "  THU_UE_CNT_RAT: 목요일 이용건수 비중. FLOAT. ex) 0.2233\n",
    "  FRI_UE_CNT_RAT: 금요일 이용건수 비중. FLOAT. ex) 0.1553\n",
    "  SAT_UE_CNT_RAT: 토요일 이용건수 비중. FLOAT. ex) 0.1747\n",
    "  SUN_UE_CNT_RAT: 일요일 이용건수 비중. FLOAT. ex) 0.1818\n",
    "\n",
    "  # 시간대별 정보\n",
    "  HR_5_11_UE_CNT_RAT: 5시~11시 이용건수 비중. FLOAT. ex) 0.1650\n",
    "  HR_12_13_UE_CNT_RAT: 12시~13시 이용건수 비중. FLOAT. ex) 0.5242\n",
    "  HR_14_17_UE_CNT_RAT: 14시~17시 이용건수 비중. FLOAT. ex) 0.3107\n",
    "  HR_18_22_UE_CNT_RAT: 18시~22시 이용건수 비중. FLOAT. ex) 0.0511\n",
    "  HR_23_4_UE_CNT_RAT: 23시~4시 이용건수 비중. FLOAT. ex) 0.07313\n",
    "\n",
    "  # 현지인 정보\n",
    "  LOCAL_UE_CNT_RAT: 현지인 이용건수 비중. FLOAT. ex) 0.5843\n",
    "\n",
    "  # 성별 정보\n",
    "  RC_M12_MAL_CUS_CNT_RAT: 남성 이용건수 비중. FLOAT. ex) 0.634\n",
    "  RC_M12_FME_CUS_CNT_RAT: 여성 이용건수 비중. FLOAT. ex) 0.366\n",
    "\n",
    "  # 연령대별 정보\n",
    "  RC_M12_AGE_UND_20_CUS_CNT_RAT: 20대 이하 이용건수 비중. FLOAT. ex) 0.066\n",
    "  RC_M12_AGE_30_CUS_CNT_RAT: 30대 이용건수 비중. FLOAT. ex) 0.252\n",
    "  RC_M12_AGE_40_CUS_CNT_RAT: 40대 이용건수 비중. FLOAT. ex) 0.398\n",
    "  RC_M12_AGE_50_CUS_CNT_RAT: 50대 이용건수 비중. FLOAT. ex) 0.201\n",
    "  RC_M12_AGE_OVR_60_CUS_CNT_RAT: 60대 이상 이용건수 비중. FLOAT. ex) 0.083\n",
    "\n",
    "\"\"\"\n",
    "\n",
    "EXAMPLE = \"\"\"\n",
    "INPUT: '서귀포시 빵집 중에 이용건수 구간이 10~25%, 이용금액 구간은 25~50%에 해당하고 오후 2시에서 5시 사이의 이용 비중이 30%을 넘고 여성이용 비중은 20% 이상인 곳 중에 60대 이상 이용비중이 가장 높은 두 곳은?\n",
    "QUERY: \n",
    "condition_CITY = data[\"CITY\"] == \"서귀포시\"\n",
    "condition_MCT_TYPE = data[\"MCT_TYPE\"] == \"베이커리\"\n",
    "condition_UE_CNT_GRP = data[\"UE_CNT_GRP\"] == \"10~25%\"\n",
    "condition_UE_AMT_GRP = data[\"UE_AMT_GRP\"] == \"25~50%\"\n",
    "condition_HR_14_17_UE_CNT_RAT = data[\"HR_14_17_UE_CNT_RAT\"] > 0.3\n",
    "condition_RC_M12_FME_CUS_CNT_RAT = data[\"RC_M12_FME_CUS_CNT_RAT\"] >= 0.2\n",
    "try : \n",
    "  answer = data[condition_CITY & condition_MCT_TYPE & condition_UE_CNT_GRP & condition_UE_AMT_GRP & condition_HR_14_17_UE_CNT_RAT & condition_RC_M12_FME_CUS_CNT_RAT].sort_values(by=\"RC_M12_AGE_OVR_60_CUS_CNT_RAT\", ascending=False).iloc[:2][\"MCT_NM\"].to_list()\n",
    "except : answer = \"\"\n",
    "\n",
    "INPUT: 서귀포시 안덕면의 중국집에서 가장 높은 화요일 이용 비중인 곳은?\n",
    "QUERY: \n",
    "condition_CITY = data[\"CITY\"] == \"서귀포시\"\n",
    "condition_REGION = data[\"REGION\"] == \"안덕면\"\n",
    "condition_MCT_TYPE = data[\"MCT_TYPE\"] == \"중식\"\n",
    "try : \n",
    "  answer = data[condition_CITY & condition_REGION & condition_MCT_TYPE].sort_values(by=\"TUE_UE_CNT_RAT\", ascending=False).iloc[0][\"MCT_NM\"]\n",
    "except : answer = \"\"\n",
    "\n",
    "INPUT: '제주시 노형동에 있는 단품요리 전문점 중 이용건수가 상위 10%에 속하고 현지인 이용 비중이 가장 높은 곳은?'\n",
    "QUERY: \n",
    "condition_CITY = data[\"CITY\"] == \"제주시\"\n",
    "condition_REGION = data[\"REGION\"] == \"노형동\"\n",
    "condition_MCT_TYPE = data[\"MCT_TYPE\"] == \"단품요리 전문\"\n",
    "condition_UE_CNT_GRP = data[\"UE_CNT_GRP\"] == \"상위 10% 이하\"\n",
    "try : \n",
    "  answer = data[condition_CITY & condition_REGION & condition_MCT_TYPE & condition_UE_CNT_GRP].sort_values(by=\"LOCAL_UE_CNT_RAT\", ascending=False).iloc[0][\"MCT_NM\"]\n",
    "except : answer = \"\"\n",
    "\"\"\""
   ]
  },
  {
   "cell_type": "code",
   "execution_count": 128,
   "metadata": {},
   "outputs": [],
   "source": [
    "TEMPLATE = f\"\"\"Task: Generate Various 10(ten) Input and Pandas code (pair) for querying a DataFrame by referring to the EXAMPLE.\n",
    "\n",
    "SCHEMA:\n",
    "{SCHEMA}\n",
    "\n",
    "EXAMPLE:\n",
    "{EXAMPLE}\n",
    "\n",
    "Please set conditions for a minimum of 5 and a maximum of 8 columns.\n",
    "Never use any properties or relationships not included in the schema.\n",
    "Never include triple backticks ``` and Never include python.\n",
    "Please only return Output format(list of list).\n",
    "\n",
    "Output format list of list:\n",
    "[[INPUT, QUERY], [INPUT, QUERY] ...]\"\"\""
   ]
  },
  {
   "cell_type": "code",
   "execution_count": 148,
   "metadata": {},
   "outputs": [],
   "source": [
    "from langchain_openai import ChatOpenAI\n",
    "\n",
    "llm = ChatOpenAI(model='gpt-4o', temperature=0.5)"
   ]
  },
  {
   "cell_type": "code",
   "execution_count": 149,
   "metadata": {},
   "outputs": [],
   "source": [
    "result = llm.invoke(TEMPLATE)"
   ]
  },
  {
   "cell_type": "code",
   "execution_count": 125,
   "metadata": {},
   "outputs": [
    {
     "data": {
      "text/plain": [
       "'[\\n    [\\n        \"제주시의 커피 전문점 중에서 월요일 이용 비중이 15% 이상이고, 30대 이용 비중이 가장 높은 곳은?\",\\n        \"condition_CITY = data[\\'CITY\\'] == \\'제주시\\'\\\\ncondition_MCT_TYPE = data[\\'MCT_TYPE\\'] == \\'커피\\'\\\\ncondition_MON_UE_CNT_RAT = data[\\'MON_UE_CNT_RAT\\'] >= 0.15\\\\ntry : \\\\n  answer = data[condition_CITY & condition_MCT_TYPE & condition_MON_UE_CNT_RAT].sort_values(by=\\'RC_M12_AGE_30_CUS_CNT_RAT\\', ascending=False).iloc[0][\\'MCT_NM\\']\\\\nexcept : answer = \\'\\'\"\\n    ],\\n    [\\n        \"서귀포시의 일식집 중에서 이용금액 구간이 50~75%에 해당하고, 남성 이용 비중이 60% 이상인 곳은?\",\\n        \"condition_CITY = data[\\'CITY\\'] == \\'서귀포시\\'\\\\ncondition_MCT_TYPE = data[\\'MCT_TYPE\\'] == \\'일식\\'\\\\ncondition_UE_AMT_GRP = data[\\'UE_AMT_GRP\\'] == \\'50~75%\\'\\\\ncondition_RC_M12_MAL_CUS_CNT_RAT = data[\\'RC_M12_MAL_CUS_CNT_RAT\\'] >= 0.6\\\\ntry : \\\\n  answer = data[condition_CITY & condition_MCT_TYPE & condition_UE_AMT_GRP & condition_RC_M12_MAL_CUS_CNT_RAT][\\'MCT_NM\\'].to_list()\\\\nexcept : answer = \\'\\'\"\\n    ],\\n    [\\n        \"제주시의 피자 가게 중에서 5시에서 11시 사이의 이용 비중이 20% 이상이고, 40대 이용 비중이 가장 높은 곳은?\",\\n        \"condition_CITY = data[\\'CITY\\'] == \\'제주시\\'\\\\ncondition_MCT_TYPE = data[\\'MCT_TYPE\\'] == \\'피자\\'\\\\ncondition_HR_5_11_UE_CNT_RAT = data[\\'HR_5_11_UE_CNT_RAT\\'] >= 0.2\\\\ntry : \\\\n  answer = data[condition_CITY & condition_MCT_TYPE & condition_HR_5_11_UE_CNT_RAT].sort_values(by=\\'RC_M12_AGE_40_CUS_CNT_RAT\\', ascending=False).iloc[0][\\'MCT_NM\\']\\\\nexcept : answer = \\'\\'\"\\n    ],\\n    [\\n        \"서귀포시의 맥주/요리주점 중에서 이용건수 구간이 25~50%에 해당하고, 50대 이용 비중이 가장 높은 곳은?\",\\n        \"condition_CITY = data[\\'CITY\\'] == \\'서귀포시\\'\\\\ncondition_MCT_TYPE = data[\\'MCT_TYPE\\'] == \\'맥주/요리주점\\'\\\\ncondition_UE_CNT_GRP = data[\\'UE_CNT_GRP\\'] == \\'25~50%\\'\\\\ntry : \\\\n  answer = data[condition_CITY & condition_MCT_TYPE & condition_UE_CNT_GRP].sort_values(by=\\'RC_M12_AGE_50_CUS_CNT_RAT\\', ascending=False).iloc[0][\\'MCT_NM\\']\\\\nexcept : answer = \\'\\'\"\\n    ],\\n    [\\n        \"제주시의 햄버거 가게 중에서 12시에서 13시 사이의 이용 비중이 50% 이상이고, 20대 이하 이용 비중이 가장 높은 곳은?\",\\n        \"condition_CITY = data[\\'CITY\\'] == \\'제주시\\'\\\\ncondition_MCT_TYPE = data[\\'MCT_TYPE\\'] == \\'햄버거\\'\\\\ncondition_HR_12_13_UE_CNT_RAT = data[\\'HR_12_13_UE_CNT_RAT\\'] >= 0.5\\\\ntry : \\\\n  answer = data[condition_CITY & condition_MCT_TYPE & condition_HR_12_13_UE_CNT_RAT].sort_values(by=\\'RC_M12_AGE_UND_20_CUS_CNT_RAT\\', ascending=False).iloc[0][\\'MCT_NM\\']\\\\nexcept : answer = \\'\\'\"\\n    ],\\n    [\\n        \"서귀포시의 분식집 중에서 이용금액 구간이 상위 10% 이하에 해당하고, 현지인 이용 비중이 가장 높은 곳은?\",\\n        \"condition_CITY = data[\\'CITY\\'] == \\'서귀포시\\'\\\\ncondition_MCT_TYPE = data[\\'MCT_TYPE\\'] == \\'분식\\'\\\\ncondition_UE_AMT_GRP = data[\\'UE_AMT_GRP\\'] == \\'상위 10% 이하\\'\\\\ntry : \\\\n  answer = data[condition_CITY & condition_MCT_TYPE & condition_UE_AMT_GRP].sort_values(by=\\'LOCAL_UE_CNT_RAT\\', ascending=False).iloc[0][\\'MCT_NM\\']\\\\nexcept : answer = \\'\\'\"\\n    ],\\n    [\\n        \"제주시의 치킨집 중에서 18시에서 22시 사이의 이용 비중이 10% 이상이고, 60대 이상 이용 비중이 가장 높은 곳은?\",\\n        \"condition_CITY = data[\\'CITY\\'] == \\'제주시\\'\\\\ncondition_MCT_TYPE = data[\\'MCT_TYPE\\'] == \\'치킨\\'\\\\ncondition_HR_18_22_UE_CNT_RAT = data[\\'HR_18_22_UE_CNT_RAT\\'] >= 0.1\\\\ntry : \\\\n  answer = data[condition_CITY & condition_MCT_TYPE & condition_HR_18_22_UE_CNT_RAT].sort_values(by=\\'RC_M12_AGE_OVR_60_CUS_CNT_RAT\\', ascending=False).iloc[0][\\'MCT_NM\\']\\\\nexcept : answer = \\'\\'\"\\n    ],\\n    [\\n        \"서귀포시의 포장마차 중에서 이용건수 구간이 75~90%에 해당하고, 여성 이용 비중이 30% 이상인 곳은?\",\\n        \"condition_CITY = data[\\'CITY\\'] == \\'서귀포시\\'\\\\ncondition_MCT_TYPE = data[\\'MCT_TYPE\\'] == \\'포장마차\\'\\\\ncondition_UE_CNT_GRP = data[\\'UE_CNT_GRP\\'] == \\'75~90%\\'\\\\ncondition_RC_M12_FME_CUS_CNT_RAT = data[\\'RC_M12_FME_CUS_CNT_RAT\\'] >= 0.3\\\\ntry : \\\\n  answer = data[condition_CITY & condition_MCT_TYPE & condition_UE_CNT_GRP & condition_RC_M12_FME_CUS_CNT_RAT][\\'MCT_NM\\'].to_list()\\\\nexcept : answer = \\'\\'\"\\n    ],\\n    [\\n        \"제주시의 베이커리 중에서 23시에서 4시 사이의 이용 비중이 5% 이상이고, 40대 이용 비중이 가장 높은 곳은?\",\\n        \"condition_CITY = data[\\'CITY\\'] == \\'제주시\\'\\\\ncondition_MCT_TYPE = data[\\'MCT_TYPE\\'] == \\'베이커리\\'\\\\ncondition_HR_23_4_UE_CNT_RAT = data[\\'HR_23_4_UE_CNT_RAT\\'] >= 0.05\\\\ntry : \\\\n  answer = data[condition_CITY & condition_MCT_TYPE & condition_HR_23_4_UE_CNT_RAT].sort_values(by=\\'RC_M12_AGE_40_CUS_CNT_RAT\\', ascending=False).iloc[0][\\'MCT_NM\\']\\\\nexcept : answer = \\'\\'\"\\n    ],\\n    [\\n        \"서귀포시의 스테이크 전문점 중에서 이용금액 구간이 10~25%에 해당하고, 남성 이용 비중이 50% 이상인 곳은?\",\\n        \"condition_CITY = data[\\'CITY\\'] == \\'서귀포시\\'\\\\ncondition_MCT_TYPE = data[\\'MCT_TYPE\\'] == \\'스테이크\\'\\\\ncondition_UE_AMT_GRP = data[\\'UE_AMT_GRP\\'] == \\'10~25%\\'\\\\ncondition_RC_M12_MAL_CUS_CNT_RAT = data[\\'RC_M12_MAL_CUS_CNT_RAT\\'] >= 0.5\\\\ntry : \\\\n  answer = data[condition_CITY & condition_MCT_TYPE & condition_UE_AMT_GRP & condition_RC_M12_MAL_CUS_CNT_RAT][\\'MCT_NM\\'].to_list()\\\\nexcept : answer = \\'\\'\"\\n    ]\\n]\\n```'"
      ]
     },
     "execution_count": 125,
     "metadata": {},
     "output_type": "execute_result"
    }
   ],
   "source": [
    "result.content[result.content.index(\"[\"):]"
   ]
  },
  {
   "cell_type": "code",
   "execution_count": 151,
   "metadata": {},
   "outputs": [
    {
     "name": "stdout",
     "output_type": "stream",
     "text": [
      "3751\n",
      "10\n",
      "제주시 커피숍 중에 월요일 이용 비중이 15% 이상이고 남성 이용 비중이 60% 이상인 곳은?\n",
      "서귀포시 일식집 중에 금요일 이용 비중이 20% 이상이고 40대 이용 비중이 가장 높은 곳은?\n",
      "대포동에 있는 치킨집 중에 토요일 이용 비중이 15% 미만이고 50대 이용 비중이 가장 높은 곳은?\n",
      "제주시의 햄버거 가게 중에서 이용금액 구간이 50~75%이고 30대 이용 비중이 가장 높은 곳은?\n",
      "서귀포시의 피자집 중에서 이용건수 구간이 25~50%이고 건당 평균 이용금액 구간이 10~25%이며 남성 이용 비중이 가장 높은 곳은?\n",
      "제주시의 분식집 중에서 12시에서 13시 사이의 이용 비중이 50% 이상이고 20대 이하 이용 비중이 가장 높은 곳은?\n",
      "서귀포시의 패밀리 레스토랑 중에서 일요일 이용 비중이 20% 이상이고 현지인 이용 비중이 50% 이상인 곳은?\n",
      "대정읍의 맥주/요리주점 중에서 5시에서 11시 사이의 이용 비중이 20% 이상이고 60대 이상 이용 비중이 가장 낮은 곳은?\n",
      "제주시의 포장마차 중에서 이용건수 구간이 90% 초과(하위 10% 이하)이고 14시에서 17시 사이의 이용 비중이 25% 미만인 곳은?\n",
      "서귀포시의 야식집 중에 이용금액 구간이 상위 10% 이하이고 18시에서 22시 사이의 이용 비중이 10% 이상인 곳은?\n"
     ]
    }
   ],
   "source": [
    "import pickle\n",
    "\n",
    "# check\n",
    "print(result.response_metadata['token_usage']['total_tokens'])\n",
    "\n",
    "# pairs = eval(result.content.replace('```', '').replace('json', ''))\n",
    "pairs = eval(result.content[result.content.index(\"[\"):].replace('```', '').replace('json', ''))\n",
    "print(len(pairs))\n",
    "\n",
    "for i, q in enumerate(pairs) :\n",
    "\n",
    "    print(q[0])\n",
    "\n",
    "    try :\n",
    "        answer = \"\"\n",
    "        exec(q[1])\n",
    "        q.append(answer)\n",
    "    except : \n",
    "        print(i)\n",
    "        continue\n",
    "\n",
    "total_data = list()\n",
    "\n",
    "total_data.extend(pairs)\n",
    "\n",
    "# 오류시 확인\n",
    "if len(total_data[0]) == 3 :\n",
    "\n",
    "    with open('total_data.pkl', 'rb') as f:\n",
    "        existing_data = pickle.load(f)\n",
    "\n",
    "    existing_data.extend(total_data)\n",
    "\n",
    "    with open('total_data.pkl', 'wb') as f:\n",
    "        pickle.dump(existing_data, f)\n"
   ]
  },
  {
   "cell_type": "code",
   "execution_count": 160,
   "metadata": {},
   "outputs": [],
   "source": [
    "save_df = pd.DataFrame(existing_data).drop_duplicates(subset=0).reset_index(drop=True)\n",
    "save_df.columns = ['Input', 'Query', 'Output']\n",
    "\n",
    "save_df.to_csv(\"eval_data.csv\", index=False)"
   ]
  },
  {
   "cell_type": "code",
   "execution_count": null,
   "metadata": {},
   "outputs": [],
   "source": []
  },
  {
   "cell_type": "markdown",
   "metadata": {},
   "source": []
  },
  {
   "cell_type": "markdown",
   "metadata": {},
   "source": []
  }
 ],
 "metadata": {
  "kernelspec": {
   "display_name": "llm_app",
   "language": "python",
   "name": "python3"
  },
  "language_info": {
   "codemirror_mode": {
    "name": "ipython",
    "version": 3
   },
   "file_extension": ".py",
   "mimetype": "text/x-python",
   "name": "python",
   "nbconvert_exporter": "python",
   "pygments_lexer": "ipython3",
   "version": "3.10.15"
  }
 },
 "nbformat": 4,
 "nbformat_minor": 2
}
